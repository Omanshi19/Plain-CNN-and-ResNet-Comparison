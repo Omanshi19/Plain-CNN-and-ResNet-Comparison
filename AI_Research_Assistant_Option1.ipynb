{
  "nbformat": 4,
  "nbformat_minor": 0,
  "metadata": {
    "colab": {
      "provenance": [],
      "gpuType": "T4"
    },
    "kernelspec": {
      "name": "python3",
      "display_name": "Python 3"
    },
    "language_info": {
      "name": "python"
    },
    "accelerator": "GPU"
  },
  "cells": [
    {
      "cell_type": "markdown",
      "source": [
        "# Deep Residual Learning for Image Recognition on CIFAR-10\n",
        "\n",
        "**Author:** Omanshi Kaushal\n",
        "\n",
        "This notebook implements and compares a plain deep CNN with a ResNet model on the CIFAR-10 image classification task.  \n",
        "The goal is to observe the effects of residual connections on training dynamics, accuracy, and generalization.\n",
        "\n",
        "We will:\n",
        "- Load and preprocess CIFAR-10 data\n",
        "- Implement two models: Plain CNN and ResNet\n",
        "- Train both models under similar conditions\n",
        "- Plot and compare training/test accuracy and loss curves\n",
        "- Discuss observations and the importance of residual connections\n"
      ],
      "metadata": {
        "id": "GVwf63veeyRw"
      }
    },
    {
      "cell_type": "code",
      "execution_count": 1,
      "metadata": {
        "id": "D37-Gp4LEajS"
      },
      "outputs": [],
      "source": [
        "import torch\n",
        "import torch.nn as nn\n",
        "import torch.nn.functional as F\n",
        "import torch.optim as optim\n",
        "from torchvision import datasets, transforms\n",
        "from torch.utils.data import DataLoader\n",
        "import matplotlib.pyplot as plt\n",
        "from tqdm import tqdm\n"
      ]
    },
    {
      "cell_type": "markdown",
      "source": [
        "### Data Loading and Preprocessing\n",
        "\n",
        "We use the CIFAR-10 dataset, consisting of 60,000 32x32 color images in 10 classes.  \n",
        "Data augmentation includes random cropping and horizontal flipping for robust training.\n"
      ],
      "metadata": {
        "id": "GrZCBDN1gbjr"
      }
    },
    {
      "cell_type": "code",
      "source": [
        "transform_train = transforms.Compose([\n",
        "    transforms.RandomCrop(32, padding=4),\n",
        "    transforms.RandomHorizontalFlip(),\n",
        "    transforms.ToTensor(),\n",
        "    transforms.Normalize((0.4914,0.4822,0.4465), (0.247,0.243,0.261))\n",
        "])\n",
        "\n",
        "transform_test = transforms.Compose([\n",
        "    transforms.ToTensor(),\n",
        "    transforms.Normalize((0.4914,0.4822,0.4465), (0.247,0.243,0.261))\n",
        "])\n",
        "\n",
        "trainset = datasets.CIFAR10(root='./data', train=True, download=True, transform=transform_train)\n",
        "testset = datasets.CIFAR10(root='./data', train=False, download=True, transform=transform_test)\n",
        "trainloader = DataLoader(trainset, batch_size=128, shuffle=True, num_workers=2)\n",
        "testloader = DataLoader(testset, batch_size=100, shuffle=False, num_workers=2)\n"
      ],
      "metadata": {
        "colab": {
          "base_uri": "https://localhost:8080/"
        },
        "id": "yIeHHGo7GQ7Y",
        "outputId": "3bc2c895-30e1-4f7b-ffa3-9d218d05acb4"
      },
      "execution_count": 2,
      "outputs": [
        {
          "output_type": "stream",
          "name": "stderr",
          "text": [
            "100%|██████████| 170M/170M [00:03<00:00, 48.3MB/s]\n"
          ]
        }
      ]
    },
    {
      "cell_type": "markdown",
      "source": [
        "### Plain CNN Model\n",
        "\n",
        "A basic convolutional neural network with increasing feature maps, batch normalization, and ReLU activations. No skip connections.\n"
      ],
      "metadata": {
        "id": "Gz6e6X6JgfhC"
      }
    },
    {
      "cell_type": "code",
      "source": [
        "class PlainCNN(nn.Module):\n",
        "    def __init__(self):\n",
        "        super(PlainCNN, self).__init__()\n",
        "        self.layers = nn.Sequential(\n",
        "            nn.Conv2d(3, 16, 3, padding=1),\n",
        "            nn.BatchNorm2d(16),\n",
        "            nn.ReLU(),\n",
        "            nn.Conv2d(16, 16, 3, padding=1),\n",
        "            nn.BatchNorm2d(16),\n",
        "            nn.ReLU(),\n",
        "            nn.Conv2d(16, 32, 3, padding=1),\n",
        "            nn.BatchNorm2d(32),\n",
        "            nn.ReLU(),\n",
        "            nn.MaxPool2d(2),  # Downsample\n",
        "\n",
        "            nn.Conv2d(32, 32, 3, padding=1),\n",
        "            nn.BatchNorm2d(32),\n",
        "            nn.ReLU(),\n",
        "            nn.Conv2d(32, 64, 3, padding=1),\n",
        "            nn.BatchNorm2d(64),\n",
        "            nn.ReLU(),\n",
        "            nn.MaxPool2d(2),\n",
        "\n",
        "            nn.Conv2d(64, 64, 3, padding=1),\n",
        "            nn.BatchNorm2d(64),\n",
        "            nn.ReLU(),\n",
        "            nn.AdaptiveAvgPool2d((1, 1))\n",
        "        )\n",
        "        self.fc = nn.Linear(64, 10)\n",
        "\n",
        "    def forward(self, x):\n",
        "        out = self.layers(x)\n",
        "        out = out.view(out.size(0), -1)\n",
        "        out = self.fc(out)\n",
        "        return out\n"
      ],
      "metadata": {
        "id": "Nm8iO6AkGUA-"
      },
      "execution_count": 3,
      "outputs": []
    },
    {
      "cell_type": "markdown",
      "source": [
        "### ResNet Model\n",
        "\n",
        "A simplified ResNet-20 style architecture composed of residual blocks, designed to ease training of very deep networks.\n"
      ],
      "metadata": {
        "id": "ritZH2vagtxB"
      }
    },
    {
      "cell_type": "code",
      "source": [
        "class ResidualBlock(nn.Module):\n",
        "    def __init__(self, in_channels, out_channels, stride=1):\n",
        "        super().__init__()\n",
        "        self.conv1 = nn.Conv2d(in_channels, out_channels, 3, stride, 1, bias=False)\n",
        "        self.bn1 = nn.BatchNorm2d(out_channels)\n",
        "        self.relu = nn.ReLU(inplace=True)\n",
        "        self.conv2 = nn.Conv2d(out_channels, out_channels, 3, 1, 1, bias=False)\n",
        "        self.bn2 = nn.BatchNorm2d(out_channels)\n",
        "        self.downsample = nn.Sequential()\n",
        "        if stride != 1 or in_channels != out_channels:\n",
        "            self.downsample = nn.Sequential(\n",
        "                nn.Conv2d(in_channels, out_channels, 1, stride, bias=False),\n",
        "                nn.BatchNorm2d(out_channels)\n",
        "            )\n",
        "\n",
        "    def forward(self, x):\n",
        "        identity = self.downsample(x)\n",
        "        out = self.relu(self.bn1(self.conv1(x)))\n",
        "        out = self.bn2(self.conv2(out))\n",
        "        out += identity\n",
        "        return self.relu(out)\n"
      ],
      "metadata": {
        "id": "PGCtbAwLGXiX"
      },
      "execution_count": 4,
      "outputs": []
    },
    {
      "cell_type": "code",
      "source": [
        "class ResNet(nn.Module):\n",
        "    def __init__(self):\n",
        "        super().__init__()\n",
        "        self.conv = nn.Conv2d(3, 16, 3, 1, 1)\n",
        "        self.bn = nn.BatchNorm2d(16)\n",
        "        self.layer1 = self._make_layer(16, 16, 3)\n",
        "        self.layer2 = self._make_layer(16, 32, 3, stride=2)\n",
        "        self.layer3 = self._make_layer(32, 64, 3, stride=2)\n",
        "        self.pool = nn.AdaptiveAvgPool2d((1,1))\n",
        "        self.fc = nn.Linear(64, 10)\n",
        "\n",
        "    def _make_layer(self, in_ch, out_ch, blocks, stride=1):\n",
        "        layers = []\n",
        "        layers.append(ResidualBlock(in_ch, out_ch, stride))\n",
        "        for _ in range(1, blocks):\n",
        "            layers.append(ResidualBlock(out_ch, out_ch))\n",
        "        return nn.Sequential(*layers)\n",
        "\n",
        "    def forward(self, x):\n",
        "        out = self.bn(self.conv(x))\n",
        "        out = F.relu(out)\n",
        "        out = self.layer1(out)\n",
        "        out = self.layer2(out)\n",
        "        out = self.layer3(out)\n",
        "        out = self.pool(out)\n",
        "        out = out.view(out.size(0), -1)\n",
        "        out = self.fc(out)\n",
        "        return out\n"
      ],
      "metadata": {
        "id": "tjEyBwpgGaE2"
      },
      "execution_count": 5,
      "outputs": []
    },
    {
      "cell_type": "code",
      "source": [
        "def train_one_epoch(model, device, trainloader, optimizer, criterion):\n",
        "    model.train()\n",
        "    running_loss = 0.\n",
        "    correct = 0\n",
        "    total = 0\n",
        "    for inputs, targets in tqdm(trainloader, desc='Training', leave=False):\n",
        "        inputs, targets = inputs.to(device), targets.to(device)\n",
        "        optimizer.zero_grad()\n",
        "        outputs = model(inputs)\n",
        "        loss = criterion(outputs, targets)\n",
        "        loss.backward()\n",
        "        optimizer.step()\n",
        "        running_loss += loss.item() * inputs.size(0)\n",
        "        _, predicted = outputs.max(1)\n",
        "        correct += predicted.eq(targets).sum().item()\n",
        "        total += targets.size(0)\n",
        "    avg_loss = running_loss / total\n",
        "    acc = correct / total\n",
        "    return avg_loss, acc\n",
        "\n",
        "def evaluate(model, device, testloader, criterion):\n",
        "    model.eval()\n",
        "    correct = 0\n",
        "    total = 0\n",
        "    running_loss = 0.\n",
        "    with torch.no_grad():\n",
        "        for inputs, targets in tqdm(testloader, desc='Testing', leave=False):\n",
        "            inputs, targets = inputs.to(device), targets.to(device)\n",
        "            outputs = model(inputs)\n",
        "            loss = criterion(outputs, targets)\n",
        "            running_loss += loss.item() * inputs.size(0)\n",
        "            _, predicted = outputs.max(1)\n",
        "            correct += predicted.eq(targets).sum().item()\n",
        "            total += targets.size(0)\n",
        "    avg_loss = running_loss / total\n",
        "    acc = correct / total\n",
        "    return avg_loss, acc\n"
      ],
      "metadata": {
        "id": "LsoNoY-NGduD"
      },
      "execution_count": 6,
      "outputs": []
    },
    {
      "cell_type": "markdown",
      "source": [
        "### Training Procedure\n",
        "\n",
        "We train both the PlainCNN and ResNet models for 100 epochs each.\n",
        "Training and validation loss and accuracy per epoch are recorded for comparison.\n"
      ],
      "metadata": {
        "id": "jw36_oZcgyyo"
      }
    },
    {
      "cell_type": "code",
      "source": [
        "import torch\n",
        "import torch.nn as nn\n",
        "import torch.nn.functional as F\n",
        "import torch.optim as optim\n",
        "from torchvision import datasets, transforms\n",
        "from torch.utils.data import DataLoader\n",
        "import matplotlib.pyplot as plt\n",
        "from tqdm import tqdm\n",
        "\n",
        "device = torch.device('cuda' if torch.cuda.is_available() else 'cpu')\n",
        "print(f'Using device: {device}')\n",
        "\n",
        "# Data preparation with augmentation\n",
        "transform_train = transforms.Compose([\n",
        "    transforms.RandomCrop(32, padding=4),\n",
        "    transforms.RandomHorizontalFlip(),\n",
        "    transforms.ToTensor(),\n",
        "    transforms.Normalize((0.4914,0.4822,0.4465), (0.247,0.243,0.261))\n",
        "])\n",
        "\n",
        "transform_test = transforms.Compose([\n",
        "    transforms.ToTensor(),\n",
        "    transforms.Normalize((0.4914,0.4822,0.4465), (0.247,0.243,0.261))\n",
        "])\n",
        "\n",
        "trainset = datasets.CIFAR10(root='./data', train=True, download=True, transform=transform_train)\n",
        "testset = datasets.CIFAR10(root='./data', train=False, download=True, transform=transform_test)\n",
        "\n",
        "trainloader = DataLoader(trainset, batch_size=128, shuffle=True, num_workers=2)\n",
        "testloader = DataLoader(testset, batch_size=100, shuffle=False, num_workers=2)\n",
        "\n",
        "# Plain CNN model\n",
        "class PlainCNN(nn.Module):\n",
        "    def __init__(self):\n",
        "        super(PlainCNN, self).__init__()\n",
        "        self.layers = nn.Sequential(\n",
        "            nn.Conv2d(3, 16, 3, padding=1), nn.BatchNorm2d(16), nn.ReLU(),\n",
        "            nn.Conv2d(16, 16, 3, padding=1), nn.BatchNorm2d(16), nn.ReLU(),\n",
        "            nn.Conv2d(16, 32, 3, padding=1), nn.BatchNorm2d(32), nn.ReLU(),\n",
        "            nn.MaxPool2d(2),\n",
        "            nn.Conv2d(32, 32, 3, padding=1), nn.BatchNorm2d(32), nn.ReLU(),\n",
        "            nn.Conv2d(32, 64, 3, padding=1), nn.BatchNorm2d(64), nn.ReLU(),\n",
        "            nn.MaxPool2d(2),\n",
        "            nn.Conv2d(64, 64, 3, padding=1), nn.BatchNorm2d(64), nn.ReLU(),\n",
        "            nn.AdaptiveAvgPool2d((1,1)),\n",
        "        )\n",
        "        self.fc = nn.Linear(64, 10)\n",
        "\n",
        "    def forward(self,x):\n",
        "        out = self.layers(x)\n",
        "        out = out.view(out.size(0), -1)\n",
        "        return self.fc(out)\n",
        "\n",
        "# Residual Block and ResNet model\n",
        "class ResidualBlock(nn.Module):\n",
        "    def __init__(self,in_channels,out_channels,stride=1):\n",
        "        super().__init__()\n",
        "        self.conv1 = nn.Conv2d(in_channels,out_channels,3,stride,1,bias=False)\n",
        "        self.bn1 = nn.BatchNorm2d(out_channels)\n",
        "        self.relu = nn.ReLU(inplace=True)\n",
        "        self.conv2 = nn.Conv2d(out_channels,out_channels,3,1,1,bias=False)\n",
        "        self.bn2 = nn.BatchNorm2d(out_channels)\n",
        "        self.downsample = nn.Sequential()\n",
        "        if stride!=1 or in_channels!=out_channels:\n",
        "            self.downsample = nn.Sequential(\n",
        "                nn.Conv2d(in_channels,out_channels,1,stride,bias=False),\n",
        "                nn.BatchNorm2d(out_channels))\n",
        "    def forward(self,x):\n",
        "        identity = self.downsample(x)\n",
        "        out = self.relu(self.bn1(self.conv1(x)))\n",
        "        out = self.bn2(self.conv2(out))\n",
        "        out += identity\n",
        "        return self.relu(out)\n",
        "\n",
        "class ResNet(nn.Module):\n",
        "    def __init__(self):\n",
        "        super().__init__()\n",
        "        self.conv = nn.Conv2d(3,16,3,1,1)\n",
        "        self.bn = nn.BatchNorm2d(16)\n",
        "        self.layer1 = self._make_layer(16,16,3)\n",
        "        self.layer2 = self._make_layer(16,32,3,stride=2)\n",
        "        self.layer3 = self._make_layer(32,64,3,stride=2)\n",
        "        self.pool = nn.AdaptiveAvgPool2d((1,1))\n",
        "        self.fc = nn.Linear(64,10)\n",
        "    def _make_layer(self,in_ch,out_ch,blocks,stride=1):\n",
        "        layers = []\n",
        "        layers.append(ResidualBlock(in_ch,out_ch,stride))\n",
        "        for _ in range(1,blocks):\n",
        "            layers.append(ResidualBlock(out_ch,out_ch))\n",
        "        return nn.Sequential(*layers)\n",
        "    def forward(self,x):\n",
        "        out = self.bn(self.conv(x))\n",
        "        out = F.relu(out)\n",
        "        out = self.layer1(out)\n",
        "        out = self.layer2(out)\n",
        "        out = self.layer3(out)\n",
        "        out = self.pool(out)\n",
        "        out = out.view(out.size(0),-1)\n",
        "        out = self.fc(out)\n",
        "        return out\n",
        "\n",
        "# Training and evaluation functions\n",
        "def train_one_epoch(model, device, trainloader, optimizer, criterion):\n",
        "    model.train()\n",
        "    running_loss = 0\n",
        "    correct = 0\n",
        "    total = 0\n",
        "    for inputs, targets in tqdm(trainloader, leave=False):\n",
        "        inputs,targets = inputs.to(device), targets.to(device)\n",
        "        optimizer.zero_grad()\n",
        "        outputs = model(inputs)\n",
        "        loss = criterion(outputs, targets)\n",
        "        loss.backward()\n",
        "        optimizer.step()\n",
        "        running_loss += loss.item()*inputs.size(0)\n",
        "        _,predicted = outputs.max(1)\n",
        "        correct += predicted.eq(targets).sum().item()\n",
        "        total += targets.size(0)\n",
        "    return running_loss/total, correct/total\n",
        "\n",
        "def evaluate(model, device, testloader, criterion):\n",
        "    model.eval()\n",
        "    running_loss = 0\n",
        "    correct = 0\n",
        "    total = 0\n",
        "    with torch.no_grad():\n",
        "        for inputs, targets in tqdm(testloader, leave=False):\n",
        "            inputs,targets = inputs.to(device), targets.to(device)\n",
        "            outputs = model(inputs)\n",
        "            loss = criterion(outputs, targets)\n",
        "            running_loss += loss.item()*inputs.size(0)\n",
        "            _,predicted = outputs.max(1)\n",
        "            correct += predicted.eq(targets).sum().item()\n",
        "            total += targets.size(0)\n",
        "    return running_loss/total, correct/total\n",
        "\n",
        "# Run training for 100 epochs for both models\n",
        "def run_training(model_class, model_name, device, trainloader, testloader, epochs=100):\n",
        "    model = model_class().to(device)\n",
        "    optimizer = optim.SGD(model.parameters(), lr=0.1, momentum=0.9, weight_decay=1e-4)\n",
        "    scheduler = optim.lr_scheduler.MultiStepLR(optimizer, milestones=[50,75], gamma=0.1)\n",
        "    criterion = nn.CrossEntropyLoss()\n",
        "\n",
        "    train_losses, train_accs = [], []\n",
        "    test_losses, test_accs = [], []\n",
        "\n",
        "    for epoch in range(epochs):\n",
        "        train_loss, train_acc = train_one_epoch(model, device, trainloader, optimizer, criterion)\n",
        "        test_loss, test_acc = evaluate(model, device, testloader, criterion)\n",
        "        scheduler.step()\n",
        "        train_losses.append(train_loss)\n",
        "        train_accs.append(train_acc)\n",
        "        test_losses.append(test_loss)\n",
        "        test_accs.append(test_acc)\n",
        "        print(f'{model_name} Epoch {epoch+1}/{epochs} - Train Loss: {train_loss:.4f}, Train Acc: {train_acc:.4f} - Test Loss: {test_loss:.4f}, Test Acc: {test_acc:.4f}')\n",
        "\n",
        "    return train_losses, train_accs, test_losses, test_accs\n",
        "\n",
        "# Train PlainCNN for 100 epochs\n",
        "train_losses_plain, train_accs_plain, test_losses_plain, test_accs_plain = run_training(\n",
        "    PlainCNN, 'PlainCNN', device, trainloader, testloader, epochs=100\n",
        ")\n",
        "\n",
        "# Train ResNet for 100 epochs\n",
        "train_losses_resnet, train_accs_resnet, test_losses_resnet, test_accs_resnet = run_training(\n",
        "    ResNet, 'ResNet', device, trainloader, testloader, epochs=100\n",
        ")\n"
      ],
      "metadata": {
        "colab": {
          "base_uri": "https://localhost:8080/"
        },
        "id": "hYeYtoEUGe8j",
        "outputId": "fe7014f2-dbb5-42d1-d5af-5a25e7bc44ff"
      },
      "execution_count": 7,
      "outputs": [
        {
          "output_type": "stream",
          "name": "stdout",
          "text": [
            "Using device: cuda\n"
          ]
        },
        {
          "output_type": "stream",
          "name": "stderr",
          "text": []
        },
        {
          "output_type": "stream",
          "name": "stdout",
          "text": [
            "PlainCNN Epoch 1/100 - Train Loss: 1.4652, Train Acc: 0.4558 - Test Loss: 1.7321, Test Acc: 0.4401\n"
          ]
        },
        {
          "output_type": "stream",
          "name": "stderr",
          "text": []
        },
        {
          "output_type": "stream",
          "name": "stdout",
          "text": [
            "PlainCNN Epoch 2/100 - Train Loss: 1.0277, Train Acc: 0.6303 - Test Loss: 1.3359, Test Acc: 0.5656\n"
          ]
        },
        {
          "output_type": "stream",
          "name": "stderr",
          "text": []
        },
        {
          "output_type": "stream",
          "name": "stdout",
          "text": [
            "PlainCNN Epoch 3/100 - Train Loss: 0.8732, Train Acc: 0.6920 - Test Loss: 0.8732, Test Acc: 0.6947\n"
          ]
        },
        {
          "output_type": "stream",
          "name": "stderr",
          "text": []
        },
        {
          "output_type": "stream",
          "name": "stdout",
          "text": [
            "PlainCNN Epoch 4/100 - Train Loss: 0.7694, Train Acc: 0.7325 - Test Loss: 0.9576, Test Acc: 0.6814\n"
          ]
        },
        {
          "output_type": "stream",
          "name": "stderr",
          "text": []
        },
        {
          "output_type": "stream",
          "name": "stdout",
          "text": [
            "PlainCNN Epoch 5/100 - Train Loss: 0.7115, Train Acc: 0.7538 - Test Loss: 1.0836, Test Acc: 0.6530\n"
          ]
        },
        {
          "output_type": "stream",
          "name": "stderr",
          "text": []
        },
        {
          "output_type": "stream",
          "name": "stdout",
          "text": [
            "PlainCNN Epoch 6/100 - Train Loss: 0.6621, Train Acc: 0.7683 - Test Loss: 1.0540, Test Acc: 0.6785\n"
          ]
        },
        {
          "output_type": "stream",
          "name": "stderr",
          "text": []
        },
        {
          "output_type": "stream",
          "name": "stdout",
          "text": [
            "PlainCNN Epoch 7/100 - Train Loss: 0.6300, Train Acc: 0.7823 - Test Loss: 0.6820, Test Acc: 0.7635\n"
          ]
        },
        {
          "output_type": "stream",
          "name": "stderr",
          "text": []
        },
        {
          "output_type": "stream",
          "name": "stdout",
          "text": [
            "PlainCNN Epoch 8/100 - Train Loss: 0.6005, Train Acc: 0.7913 - Test Loss: 0.9677, Test Acc: 0.7060\n"
          ]
        },
        {
          "output_type": "stream",
          "name": "stderr",
          "text": []
        },
        {
          "output_type": "stream",
          "name": "stdout",
          "text": [
            "PlainCNN Epoch 9/100 - Train Loss: 0.5801, Train Acc: 0.7986 - Test Loss: 0.7320, Test Acc: 0.7565\n"
          ]
        },
        {
          "output_type": "stream",
          "name": "stderr",
          "text": []
        },
        {
          "output_type": "stream",
          "name": "stdout",
          "text": [
            "PlainCNN Epoch 10/100 - Train Loss: 0.5613, Train Acc: 0.8050 - Test Loss: 0.7256, Test Acc: 0.7571\n"
          ]
        },
        {
          "output_type": "stream",
          "name": "stderr",
          "text": []
        },
        {
          "output_type": "stream",
          "name": "stdout",
          "text": [
            "PlainCNN Epoch 11/100 - Train Loss: 0.5446, Train Acc: 0.8113 - Test Loss: 0.6623, Test Acc: 0.7741\n"
          ]
        },
        {
          "output_type": "stream",
          "name": "stderr",
          "text": []
        },
        {
          "output_type": "stream",
          "name": "stdout",
          "text": [
            "PlainCNN Epoch 12/100 - Train Loss: 0.5290, Train Acc: 0.8178 - Test Loss: 0.6288, Test Acc: 0.7899\n"
          ]
        },
        {
          "output_type": "stream",
          "name": "stderr",
          "text": []
        },
        {
          "output_type": "stream",
          "name": "stdout",
          "text": [
            "PlainCNN Epoch 13/100 - Train Loss: 0.5165, Train Acc: 0.8227 - Test Loss: 0.7177, Test Acc: 0.7682\n"
          ]
        },
        {
          "output_type": "stream",
          "name": "stderr",
          "text": []
        },
        {
          "output_type": "stream",
          "name": "stdout",
          "text": [
            "PlainCNN Epoch 14/100 - Train Loss: 0.5095, Train Acc: 0.8230 - Test Loss: 0.5882, Test Acc: 0.7982\n"
          ]
        },
        {
          "output_type": "stream",
          "name": "stderr",
          "text": []
        },
        {
          "output_type": "stream",
          "name": "stdout",
          "text": [
            "PlainCNN Epoch 15/100 - Train Loss: 0.4930, Train Acc: 0.8311 - Test Loss: 0.7127, Test Acc: 0.7658\n"
          ]
        },
        {
          "output_type": "stream",
          "name": "stderr",
          "text": []
        },
        {
          "output_type": "stream",
          "name": "stdout",
          "text": [
            "PlainCNN Epoch 16/100 - Train Loss: 0.4898, Train Acc: 0.8305 - Test Loss: 0.6012, Test Acc: 0.7988\n"
          ]
        },
        {
          "output_type": "stream",
          "name": "stderr",
          "text": []
        },
        {
          "output_type": "stream",
          "name": "stdout",
          "text": [
            "PlainCNN Epoch 17/100 - Train Loss: 0.4810, Train Acc: 0.8344 - Test Loss: 0.6373, Test Acc: 0.7833\n"
          ]
        },
        {
          "output_type": "stream",
          "name": "stderr",
          "text": []
        },
        {
          "output_type": "stream",
          "name": "stdout",
          "text": [
            "PlainCNN Epoch 18/100 - Train Loss: 0.4730, Train Acc: 0.8369 - Test Loss: 0.6702, Test Acc: 0.7835\n"
          ]
        },
        {
          "output_type": "stream",
          "name": "stderr",
          "text": []
        },
        {
          "output_type": "stream",
          "name": "stdout",
          "text": [
            "PlainCNN Epoch 19/100 - Train Loss: 0.4703, Train Acc: 0.8377 - Test Loss: 0.5296, Test Acc: 0.8210\n"
          ]
        },
        {
          "output_type": "stream",
          "name": "stderr",
          "text": []
        },
        {
          "output_type": "stream",
          "name": "stdout",
          "text": [
            "PlainCNN Epoch 20/100 - Train Loss: 0.4651, Train Acc: 0.8398 - Test Loss: 0.6274, Test Acc: 0.7931\n"
          ]
        },
        {
          "output_type": "stream",
          "name": "stderr",
          "text": []
        },
        {
          "output_type": "stream",
          "name": "stdout",
          "text": [
            "PlainCNN Epoch 21/100 - Train Loss: 0.4566, Train Acc: 0.8424 - Test Loss: 0.6511, Test Acc: 0.7911\n"
          ]
        },
        {
          "output_type": "stream",
          "name": "stderr",
          "text": []
        },
        {
          "output_type": "stream",
          "name": "stdout",
          "text": [
            "PlainCNN Epoch 22/100 - Train Loss: 0.4531, Train Acc: 0.8432 - Test Loss: 0.6736, Test Acc: 0.7779\n"
          ]
        },
        {
          "output_type": "stream",
          "name": "stderr",
          "text": []
        },
        {
          "output_type": "stream",
          "name": "stdout",
          "text": [
            "PlainCNN Epoch 23/100 - Train Loss: 0.4471, Train Acc: 0.8446 - Test Loss: 0.6620, Test Acc: 0.7866\n"
          ]
        },
        {
          "output_type": "stream",
          "name": "stderr",
          "text": []
        },
        {
          "output_type": "stream",
          "name": "stdout",
          "text": [
            "PlainCNN Epoch 24/100 - Train Loss: 0.4424, Train Acc: 0.8474 - Test Loss: 0.6459, Test Acc: 0.8014\n"
          ]
        },
        {
          "output_type": "stream",
          "name": "stderr",
          "text": []
        },
        {
          "output_type": "stream",
          "name": "stdout",
          "text": [
            "PlainCNN Epoch 25/100 - Train Loss: 0.4380, Train Acc: 0.8494 - Test Loss: 0.5576, Test Acc: 0.8138\n"
          ]
        },
        {
          "output_type": "stream",
          "name": "stderr",
          "text": []
        },
        {
          "output_type": "stream",
          "name": "stdout",
          "text": [
            "PlainCNN Epoch 26/100 - Train Loss: 0.4336, Train Acc: 0.8489 - Test Loss: 0.6797, Test Acc: 0.7713\n"
          ]
        },
        {
          "output_type": "stream",
          "name": "stderr",
          "text": []
        },
        {
          "output_type": "stream",
          "name": "stdout",
          "text": [
            "PlainCNN Epoch 27/100 - Train Loss: 0.4281, Train Acc: 0.8506 - Test Loss: 0.7255, Test Acc: 0.7653\n"
          ]
        },
        {
          "output_type": "stream",
          "name": "stderr",
          "text": []
        },
        {
          "output_type": "stream",
          "name": "stdout",
          "text": [
            "PlainCNN Epoch 28/100 - Train Loss: 0.4207, Train Acc: 0.8551 - Test Loss: 0.6245, Test Acc: 0.7934\n"
          ]
        },
        {
          "output_type": "stream",
          "name": "stderr",
          "text": []
        },
        {
          "output_type": "stream",
          "name": "stdout",
          "text": [
            "PlainCNN Epoch 29/100 - Train Loss: 0.4237, Train Acc: 0.8529 - Test Loss: 0.6345, Test Acc: 0.7996\n"
          ]
        },
        {
          "output_type": "stream",
          "name": "stderr",
          "text": []
        },
        {
          "output_type": "stream",
          "name": "stdout",
          "text": [
            "PlainCNN Epoch 30/100 - Train Loss: 0.4183, Train Acc: 0.8554 - Test Loss: 0.6249, Test Acc: 0.7882\n"
          ]
        },
        {
          "output_type": "stream",
          "name": "stderr",
          "text": []
        },
        {
          "output_type": "stream",
          "name": "stdout",
          "text": [
            "PlainCNN Epoch 31/100 - Train Loss: 0.4225, Train Acc: 0.8548 - Test Loss: 0.6464, Test Acc: 0.7921\n"
          ]
        },
        {
          "output_type": "stream",
          "name": "stderr",
          "text": []
        },
        {
          "output_type": "stream",
          "name": "stdout",
          "text": [
            "PlainCNN Epoch 32/100 - Train Loss: 0.4142, Train Acc: 0.8571 - Test Loss: 0.5674, Test Acc: 0.8085\n"
          ]
        },
        {
          "output_type": "stream",
          "name": "stderr",
          "text": []
        },
        {
          "output_type": "stream",
          "name": "stdout",
          "text": [
            "PlainCNN Epoch 33/100 - Train Loss: 0.4143, Train Acc: 0.8563 - Test Loss: 0.7469, Test Acc: 0.7774\n"
          ]
        },
        {
          "output_type": "stream",
          "name": "stderr",
          "text": []
        },
        {
          "output_type": "stream",
          "name": "stdout",
          "text": [
            "PlainCNN Epoch 34/100 - Train Loss: 0.4103, Train Acc: 0.8577 - Test Loss: 0.5438, Test Acc: 0.8188\n"
          ]
        },
        {
          "output_type": "stream",
          "name": "stderr",
          "text": []
        },
        {
          "output_type": "stream",
          "name": "stdout",
          "text": [
            "PlainCNN Epoch 35/100 - Train Loss: 0.4096, Train Acc: 0.8587 - Test Loss: 0.6873, Test Acc: 0.7740\n"
          ]
        },
        {
          "output_type": "stream",
          "name": "stderr",
          "text": []
        },
        {
          "output_type": "stream",
          "name": "stdout",
          "text": [
            "PlainCNN Epoch 36/100 - Train Loss: 0.4013, Train Acc: 0.8615 - Test Loss: 0.6190, Test Acc: 0.8051\n"
          ]
        },
        {
          "output_type": "stream",
          "name": "stderr",
          "text": []
        },
        {
          "output_type": "stream",
          "name": "stdout",
          "text": [
            "PlainCNN Epoch 37/100 - Train Loss: 0.4030, Train Acc: 0.8619 - Test Loss: 0.4970, Test Acc: 0.8349\n"
          ]
        },
        {
          "output_type": "stream",
          "name": "stderr",
          "text": []
        },
        {
          "output_type": "stream",
          "name": "stdout",
          "text": [
            "PlainCNN Epoch 38/100 - Train Loss: 0.3999, Train Acc: 0.8626 - Test Loss: 0.6225, Test Acc: 0.8014\n"
          ]
        },
        {
          "output_type": "stream",
          "name": "stderr",
          "text": []
        },
        {
          "output_type": "stream",
          "name": "stdout",
          "text": [
            "PlainCNN Epoch 39/100 - Train Loss: 0.4041, Train Acc: 0.8608 - Test Loss: 0.5192, Test Acc: 0.8304\n"
          ]
        },
        {
          "output_type": "stream",
          "name": "stderr",
          "text": []
        },
        {
          "output_type": "stream",
          "name": "stdout",
          "text": [
            "PlainCNN Epoch 40/100 - Train Loss: 0.3916, Train Acc: 0.8641 - Test Loss: 0.5566, Test Acc: 0.8206\n"
          ]
        },
        {
          "output_type": "stream",
          "name": "stderr",
          "text": []
        },
        {
          "output_type": "stream",
          "name": "stdout",
          "text": [
            "PlainCNN Epoch 41/100 - Train Loss: 0.3929, Train Acc: 0.8630 - Test Loss: 0.5384, Test Acc: 0.8252\n"
          ]
        },
        {
          "output_type": "stream",
          "name": "stderr",
          "text": []
        },
        {
          "output_type": "stream",
          "name": "stdout",
          "text": [
            "PlainCNN Epoch 42/100 - Train Loss: 0.3935, Train Acc: 0.8636 - Test Loss: 0.7392, Test Acc: 0.7719\n"
          ]
        },
        {
          "output_type": "stream",
          "name": "stderr",
          "text": []
        },
        {
          "output_type": "stream",
          "name": "stdout",
          "text": [
            "PlainCNN Epoch 43/100 - Train Loss: 0.3918, Train Acc: 0.8640 - Test Loss: 0.5441, Test Acc: 0.8216\n"
          ]
        },
        {
          "output_type": "stream",
          "name": "stderr",
          "text": []
        },
        {
          "output_type": "stream",
          "name": "stdout",
          "text": [
            "PlainCNN Epoch 44/100 - Train Loss: 0.3895, Train Acc: 0.8646 - Test Loss: 0.5391, Test Acc: 0.8244\n"
          ]
        },
        {
          "output_type": "stream",
          "name": "stderr",
          "text": []
        },
        {
          "output_type": "stream",
          "name": "stdout",
          "text": [
            "PlainCNN Epoch 45/100 - Train Loss: 0.3856, Train Acc: 0.8666 - Test Loss: 0.6321, Test Acc: 0.8065\n"
          ]
        },
        {
          "output_type": "stream",
          "name": "stderr",
          "text": []
        },
        {
          "output_type": "stream",
          "name": "stdout",
          "text": [
            "PlainCNN Epoch 46/100 - Train Loss: 0.3850, Train Acc: 0.8670 - Test Loss: 0.5791, Test Acc: 0.8158\n"
          ]
        },
        {
          "output_type": "stream",
          "name": "stderr",
          "text": []
        },
        {
          "output_type": "stream",
          "name": "stdout",
          "text": [
            "PlainCNN Epoch 47/100 - Train Loss: 0.3846, Train Acc: 0.8657 - Test Loss: 0.6270, Test Acc: 0.7971\n"
          ]
        },
        {
          "output_type": "stream",
          "name": "stderr",
          "text": []
        },
        {
          "output_type": "stream",
          "name": "stdout",
          "text": [
            "PlainCNN Epoch 48/100 - Train Loss: 0.3847, Train Acc: 0.8671 - Test Loss: 0.4698, Test Acc: 0.8453\n"
          ]
        },
        {
          "output_type": "stream",
          "name": "stderr",
          "text": []
        },
        {
          "output_type": "stream",
          "name": "stdout",
          "text": [
            "PlainCNN Epoch 49/100 - Train Loss: 0.3866, Train Acc: 0.8660 - Test Loss: 0.5275, Test Acc: 0.8221\n"
          ]
        },
        {
          "output_type": "stream",
          "name": "stderr",
          "text": []
        },
        {
          "output_type": "stream",
          "name": "stdout",
          "text": [
            "PlainCNN Epoch 50/100 - Train Loss: 0.3824, Train Acc: 0.8662 - Test Loss: 0.5736, Test Acc: 0.8117\n"
          ]
        },
        {
          "output_type": "stream",
          "name": "stderr",
          "text": []
        },
        {
          "output_type": "stream",
          "name": "stdout",
          "text": [
            "PlainCNN Epoch 51/100 - Train Loss: 0.3029, Train Acc: 0.8972 - Test Loss: 0.3913, Test Acc: 0.8667\n"
          ]
        },
        {
          "output_type": "stream",
          "name": "stderr",
          "text": []
        },
        {
          "output_type": "stream",
          "name": "stdout",
          "text": [
            "PlainCNN Epoch 52/100 - Train Loss: 0.2854, Train Acc: 0.9036 - Test Loss: 0.3859, Test Acc: 0.8710\n"
          ]
        },
        {
          "output_type": "stream",
          "name": "stderr",
          "text": []
        },
        {
          "output_type": "stream",
          "name": "stdout",
          "text": [
            "PlainCNN Epoch 53/100 - Train Loss: 0.2779, Train Acc: 0.9065 - Test Loss: 0.3818, Test Acc: 0.8723\n"
          ]
        },
        {
          "output_type": "stream",
          "name": "stderr",
          "text": []
        },
        {
          "output_type": "stream",
          "name": "stdout",
          "text": [
            "PlainCNN Epoch 54/100 - Train Loss: 0.2728, Train Acc: 0.9067 - Test Loss: 0.3830, Test Acc: 0.8705\n"
          ]
        },
        {
          "output_type": "stream",
          "name": "stderr",
          "text": []
        },
        {
          "output_type": "stream",
          "name": "stdout",
          "text": [
            "PlainCNN Epoch 55/100 - Train Loss: 0.2686, Train Acc: 0.9093 - Test Loss: 0.3875, Test Acc: 0.8724\n"
          ]
        },
        {
          "output_type": "stream",
          "name": "stderr",
          "text": []
        },
        {
          "output_type": "stream",
          "name": "stdout",
          "text": [
            "PlainCNN Epoch 56/100 - Train Loss: 0.2662, Train Acc: 0.9103 - Test Loss: 0.3853, Test Acc: 0.8706\n"
          ]
        },
        {
          "output_type": "stream",
          "name": "stderr",
          "text": []
        },
        {
          "output_type": "stream",
          "name": "stdout",
          "text": [
            "PlainCNN Epoch 57/100 - Train Loss: 0.2636, Train Acc: 0.9112 - Test Loss: 0.3923, Test Acc: 0.8711\n"
          ]
        },
        {
          "output_type": "stream",
          "name": "stderr",
          "text": []
        },
        {
          "output_type": "stream",
          "name": "stdout",
          "text": [
            "PlainCNN Epoch 58/100 - Train Loss: 0.2603, Train Acc: 0.9116 - Test Loss: 0.3855, Test Acc: 0.8719\n"
          ]
        },
        {
          "output_type": "stream",
          "name": "stderr",
          "text": []
        },
        {
          "output_type": "stream",
          "name": "stdout",
          "text": [
            "PlainCNN Epoch 59/100 - Train Loss: 0.2560, Train Acc: 0.9132 - Test Loss: 0.3888, Test Acc: 0.8704\n"
          ]
        },
        {
          "output_type": "stream",
          "name": "stderr",
          "text": []
        },
        {
          "output_type": "stream",
          "name": "stdout",
          "text": [
            "PlainCNN Epoch 60/100 - Train Loss: 0.2599, Train Acc: 0.9120 - Test Loss: 0.3845, Test Acc: 0.8720\n"
          ]
        },
        {
          "output_type": "stream",
          "name": "stderr",
          "text": []
        },
        {
          "output_type": "stream",
          "name": "stdout",
          "text": [
            "PlainCNN Epoch 61/100 - Train Loss: 0.2560, Train Acc: 0.9130 - Test Loss: 0.3904, Test Acc: 0.8692\n"
          ]
        },
        {
          "output_type": "stream",
          "name": "stderr",
          "text": []
        },
        {
          "output_type": "stream",
          "name": "stdout",
          "text": [
            "PlainCNN Epoch 62/100 - Train Loss: 0.2541, Train Acc: 0.9125 - Test Loss: 0.3824, Test Acc: 0.8730\n"
          ]
        },
        {
          "output_type": "stream",
          "name": "stderr",
          "text": []
        },
        {
          "output_type": "stream",
          "name": "stdout",
          "text": [
            "PlainCNN Epoch 63/100 - Train Loss: 0.2526, Train Acc: 0.9143 - Test Loss: 0.3892, Test Acc: 0.8746\n"
          ]
        },
        {
          "output_type": "stream",
          "name": "stderr",
          "text": []
        },
        {
          "output_type": "stream",
          "name": "stdout",
          "text": [
            "PlainCNN Epoch 64/100 - Train Loss: 0.2521, Train Acc: 0.9139 - Test Loss: 0.3851, Test Acc: 0.8726\n"
          ]
        },
        {
          "output_type": "stream",
          "name": "stderr",
          "text": []
        },
        {
          "output_type": "stream",
          "name": "stdout",
          "text": [
            "PlainCNN Epoch 65/100 - Train Loss: 0.2505, Train Acc: 0.9147 - Test Loss: 0.3875, Test Acc: 0.8725\n"
          ]
        },
        {
          "output_type": "stream",
          "name": "stderr",
          "text": []
        },
        {
          "output_type": "stream",
          "name": "stdout",
          "text": [
            "PlainCNN Epoch 66/100 - Train Loss: 0.2494, Train Acc: 0.9152 - Test Loss: 0.3988, Test Acc: 0.8689\n"
          ]
        },
        {
          "output_type": "stream",
          "name": "stderr",
          "text": []
        },
        {
          "output_type": "stream",
          "name": "stdout",
          "text": [
            "PlainCNN Epoch 67/100 - Train Loss: 0.2522, Train Acc: 0.9137 - Test Loss: 0.4012, Test Acc: 0.8654\n"
          ]
        },
        {
          "output_type": "stream",
          "name": "stderr",
          "text": []
        },
        {
          "output_type": "stream",
          "name": "stdout",
          "text": [
            "PlainCNN Epoch 68/100 - Train Loss: 0.2480, Train Acc: 0.9160 - Test Loss: 0.3957, Test Acc: 0.8712\n"
          ]
        },
        {
          "output_type": "stream",
          "name": "stderr",
          "text": []
        },
        {
          "output_type": "stream",
          "name": "stdout",
          "text": [
            "PlainCNN Epoch 69/100 - Train Loss: 0.2465, Train Acc: 0.9155 - Test Loss: 0.3936, Test Acc: 0.8679\n"
          ]
        },
        {
          "output_type": "stream",
          "name": "stderr",
          "text": []
        },
        {
          "output_type": "stream",
          "name": "stdout",
          "text": [
            "PlainCNN Epoch 70/100 - Train Loss: 0.2432, Train Acc: 0.9164 - Test Loss: 0.3919, Test Acc: 0.8694\n"
          ]
        },
        {
          "output_type": "stream",
          "name": "stderr",
          "text": []
        },
        {
          "output_type": "stream",
          "name": "stdout",
          "text": [
            "PlainCNN Epoch 71/100 - Train Loss: 0.2474, Train Acc: 0.9160 - Test Loss: 0.3965, Test Acc: 0.8672\n"
          ]
        },
        {
          "output_type": "stream",
          "name": "stderr",
          "text": []
        },
        {
          "output_type": "stream",
          "name": "stdout",
          "text": [
            "PlainCNN Epoch 72/100 - Train Loss: 0.2419, Train Acc: 0.9190 - Test Loss: 0.3946, Test Acc: 0.8709\n"
          ]
        },
        {
          "output_type": "stream",
          "name": "stderr",
          "text": []
        },
        {
          "output_type": "stream",
          "name": "stdout",
          "text": [
            "PlainCNN Epoch 73/100 - Train Loss: 0.2463, Train Acc: 0.9161 - Test Loss: 0.3872, Test Acc: 0.8733\n"
          ]
        },
        {
          "output_type": "stream",
          "name": "stderr",
          "text": []
        },
        {
          "output_type": "stream",
          "name": "stdout",
          "text": [
            "PlainCNN Epoch 74/100 - Train Loss: 0.2426, Train Acc: 0.9181 - Test Loss: 0.3867, Test Acc: 0.8715\n"
          ]
        },
        {
          "output_type": "stream",
          "name": "stderr",
          "text": []
        },
        {
          "output_type": "stream",
          "name": "stdout",
          "text": [
            "PlainCNN Epoch 75/100 - Train Loss: 0.2438, Train Acc: 0.9168 - Test Loss: 0.3983, Test Acc: 0.8687\n"
          ]
        },
        {
          "output_type": "stream",
          "name": "stderr",
          "text": []
        },
        {
          "output_type": "stream",
          "name": "stdout",
          "text": [
            "PlainCNN Epoch 76/100 - Train Loss: 0.2336, Train Acc: 0.9207 - Test Loss: 0.3792, Test Acc: 0.8728\n"
          ]
        },
        {
          "output_type": "stream",
          "name": "stderr",
          "text": []
        },
        {
          "output_type": "stream",
          "name": "stdout",
          "text": [
            "PlainCNN Epoch 77/100 - Train Loss: 0.2294, Train Acc: 0.9223 - Test Loss: 0.3788, Test Acc: 0.8735\n"
          ]
        },
        {
          "output_type": "stream",
          "name": "stderr",
          "text": []
        },
        {
          "output_type": "stream",
          "name": "stdout",
          "text": [
            "PlainCNN Epoch 78/100 - Train Loss: 0.2244, Train Acc: 0.9244 - Test Loss: 0.3789, Test Acc: 0.8752\n"
          ]
        },
        {
          "output_type": "stream",
          "name": "stderr",
          "text": []
        },
        {
          "output_type": "stream",
          "name": "stdout",
          "text": [
            "PlainCNN Epoch 79/100 - Train Loss: 0.2286, Train Acc: 0.9237 - Test Loss: 0.3807, Test Acc: 0.8730\n"
          ]
        },
        {
          "output_type": "stream",
          "name": "stderr",
          "text": []
        },
        {
          "output_type": "stream",
          "name": "stdout",
          "text": [
            "PlainCNN Epoch 80/100 - Train Loss: 0.2234, Train Acc: 0.9249 - Test Loss: 0.3778, Test Acc: 0.8746\n"
          ]
        },
        {
          "output_type": "stream",
          "name": "stderr",
          "text": []
        },
        {
          "output_type": "stream",
          "name": "stdout",
          "text": [
            "PlainCNN Epoch 81/100 - Train Loss: 0.2268, Train Acc: 0.9235 - Test Loss: 0.3778, Test Acc: 0.8733\n"
          ]
        },
        {
          "output_type": "stream",
          "name": "stderr",
          "text": []
        },
        {
          "output_type": "stream",
          "name": "stdout",
          "text": [
            "PlainCNN Epoch 82/100 - Train Loss: 0.2253, Train Acc: 0.9224 - Test Loss: 0.3810, Test Acc: 0.8750\n"
          ]
        },
        {
          "output_type": "stream",
          "name": "stderr",
          "text": []
        },
        {
          "output_type": "stream",
          "name": "stdout",
          "text": [
            "PlainCNN Epoch 83/100 - Train Loss: 0.2249, Train Acc: 0.9236 - Test Loss: 0.3800, Test Acc: 0.8741\n"
          ]
        },
        {
          "output_type": "stream",
          "name": "stderr",
          "text": []
        },
        {
          "output_type": "stream",
          "name": "stdout",
          "text": [
            "PlainCNN Epoch 84/100 - Train Loss: 0.2238, Train Acc: 0.9255 - Test Loss: 0.3812, Test Acc: 0.8731\n"
          ]
        },
        {
          "output_type": "stream",
          "name": "stderr",
          "text": []
        },
        {
          "output_type": "stream",
          "name": "stdout",
          "text": [
            "PlainCNN Epoch 85/100 - Train Loss: 0.2252, Train Acc: 0.9241 - Test Loss: 0.3825, Test Acc: 0.8741\n"
          ]
        },
        {
          "output_type": "stream",
          "name": "stderr",
          "text": []
        },
        {
          "output_type": "stream",
          "name": "stdout",
          "text": [
            "PlainCNN Epoch 86/100 - Train Loss: 0.2245, Train Acc: 0.9231 - Test Loss: 0.3797, Test Acc: 0.8734\n"
          ]
        },
        {
          "output_type": "stream",
          "name": "stderr",
          "text": []
        },
        {
          "output_type": "stream",
          "name": "stdout",
          "text": [
            "PlainCNN Epoch 87/100 - Train Loss: 0.2254, Train Acc: 0.9233 - Test Loss: 0.3821, Test Acc: 0.8723\n"
          ]
        },
        {
          "output_type": "stream",
          "name": "stderr",
          "text": []
        },
        {
          "output_type": "stream",
          "name": "stdout",
          "text": [
            "PlainCNN Epoch 88/100 - Train Loss: 0.2251, Train Acc: 0.9231 - Test Loss: 0.3799, Test Acc: 0.8744\n"
          ]
        },
        {
          "output_type": "stream",
          "name": "stderr",
          "text": []
        },
        {
          "output_type": "stream",
          "name": "stdout",
          "text": [
            "PlainCNN Epoch 89/100 - Train Loss: 0.2259, Train Acc: 0.9224 - Test Loss: 0.3812, Test Acc: 0.8741\n"
          ]
        },
        {
          "output_type": "stream",
          "name": "stderr",
          "text": []
        },
        {
          "output_type": "stream",
          "name": "stdout",
          "text": [
            "PlainCNN Epoch 90/100 - Train Loss: 0.2242, Train Acc: 0.9238 - Test Loss: 0.3791, Test Acc: 0.8733\n"
          ]
        },
        {
          "output_type": "stream",
          "name": "stderr",
          "text": []
        },
        {
          "output_type": "stream",
          "name": "stdout",
          "text": [
            "PlainCNN Epoch 91/100 - Train Loss: 0.2221, Train Acc: 0.9241 - Test Loss: 0.3801, Test Acc: 0.8737\n"
          ]
        },
        {
          "output_type": "stream",
          "name": "stderr",
          "text": []
        },
        {
          "output_type": "stream",
          "name": "stdout",
          "text": [
            "PlainCNN Epoch 92/100 - Train Loss: 0.2232, Train Acc: 0.9247 - Test Loss: 0.3826, Test Acc: 0.8742\n"
          ]
        },
        {
          "output_type": "stream",
          "name": "stderr",
          "text": []
        },
        {
          "output_type": "stream",
          "name": "stdout",
          "text": [
            "PlainCNN Epoch 93/100 - Train Loss: 0.2220, Train Acc: 0.9242 - Test Loss: 0.3796, Test Acc: 0.8743\n"
          ]
        },
        {
          "output_type": "stream",
          "name": "stderr",
          "text": []
        },
        {
          "output_type": "stream",
          "name": "stdout",
          "text": [
            "PlainCNN Epoch 94/100 - Train Loss: 0.2247, Train Acc: 0.9234 - Test Loss: 0.3807, Test Acc: 0.8742\n"
          ]
        },
        {
          "output_type": "stream",
          "name": "stderr",
          "text": []
        },
        {
          "output_type": "stream",
          "name": "stdout",
          "text": [
            "PlainCNN Epoch 95/100 - Train Loss: 0.2243, Train Acc: 0.9234 - Test Loss: 0.3809, Test Acc: 0.8745\n"
          ]
        },
        {
          "output_type": "stream",
          "name": "stderr",
          "text": []
        },
        {
          "output_type": "stream",
          "name": "stdout",
          "text": [
            "PlainCNN Epoch 96/100 - Train Loss: 0.2220, Train Acc: 0.9253 - Test Loss: 0.3792, Test Acc: 0.8740\n"
          ]
        },
        {
          "output_type": "stream",
          "name": "stderr",
          "text": []
        },
        {
          "output_type": "stream",
          "name": "stdout",
          "text": [
            "PlainCNN Epoch 97/100 - Train Loss: 0.2230, Train Acc: 0.9241 - Test Loss: 0.3813, Test Acc: 0.8742\n"
          ]
        },
        {
          "output_type": "stream",
          "name": "stderr",
          "text": []
        },
        {
          "output_type": "stream",
          "name": "stdout",
          "text": [
            "PlainCNN Epoch 98/100 - Train Loss: 0.2232, Train Acc: 0.9239 - Test Loss: 0.3802, Test Acc: 0.8754\n"
          ]
        },
        {
          "output_type": "stream",
          "name": "stderr",
          "text": []
        },
        {
          "output_type": "stream",
          "name": "stdout",
          "text": [
            "PlainCNN Epoch 99/100 - Train Loss: 0.2224, Train Acc: 0.9248 - Test Loss: 0.3800, Test Acc: 0.8748\n"
          ]
        },
        {
          "output_type": "stream",
          "name": "stderr",
          "text": []
        },
        {
          "output_type": "stream",
          "name": "stdout",
          "text": [
            "PlainCNN Epoch 100/100 - Train Loss: 0.2204, Train Acc: 0.9263 - Test Loss: 0.3818, Test Acc: 0.8738\n"
          ]
        },
        {
          "output_type": "stream",
          "name": "stderr",
          "text": []
        },
        {
          "output_type": "stream",
          "name": "stdout",
          "text": [
            "ResNet Epoch 1/100 - Train Loss: 1.7204, Train Acc: 0.3483 - Test Loss: 1.4614, Test Acc: 0.4695\n"
          ]
        },
        {
          "output_type": "stream",
          "name": "stderr",
          "text": []
        },
        {
          "output_type": "stream",
          "name": "stdout",
          "text": [
            "ResNet Epoch 2/100 - Train Loss: 1.2680, Train Acc: 0.5392 - Test Loss: 1.4638, Test Acc: 0.4941\n"
          ]
        },
        {
          "output_type": "stream",
          "name": "stderr",
          "text": []
        },
        {
          "output_type": "stream",
          "name": "stdout",
          "text": [
            "ResNet Epoch 3/100 - Train Loss: 1.0196, Train Acc: 0.6370 - Test Loss: 1.2270, Test Acc: 0.5843\n"
          ]
        },
        {
          "output_type": "stream",
          "name": "stderr",
          "text": []
        },
        {
          "output_type": "stream",
          "name": "stdout",
          "text": [
            "ResNet Epoch 4/100 - Train Loss: 0.8484, Train Acc: 0.7008 - Test Loss: 0.9706, Test Acc: 0.6651\n"
          ]
        },
        {
          "output_type": "stream",
          "name": "stderr",
          "text": []
        },
        {
          "output_type": "stream",
          "name": "stdout",
          "text": [
            "ResNet Epoch 5/100 - Train Loss: 0.7308, Train Acc: 0.7460 - Test Loss: 0.8012, Test Acc: 0.7309\n"
          ]
        },
        {
          "output_type": "stream",
          "name": "stderr",
          "text": []
        },
        {
          "output_type": "stream",
          "name": "stdout",
          "text": [
            "ResNet Epoch 6/100 - Train Loss: 0.6524, Train Acc: 0.7731 - Test Loss: 0.7322, Test Acc: 0.7487\n"
          ]
        },
        {
          "output_type": "stream",
          "name": "stderr",
          "text": []
        },
        {
          "output_type": "stream",
          "name": "stdout",
          "text": [
            "ResNet Epoch 7/100 - Train Loss: 0.5979, Train Acc: 0.7942 - Test Loss: 0.6254, Test Acc: 0.7861\n"
          ]
        },
        {
          "output_type": "stream",
          "name": "stderr",
          "text": []
        },
        {
          "output_type": "stream",
          "name": "stdout",
          "text": [
            "ResNet Epoch 8/100 - Train Loss: 0.5564, Train Acc: 0.8062 - Test Loss: 0.5667, Test Acc: 0.8009\n"
          ]
        },
        {
          "output_type": "stream",
          "name": "stderr",
          "text": []
        },
        {
          "output_type": "stream",
          "name": "stdout",
          "text": [
            "ResNet Epoch 9/100 - Train Loss: 0.5183, Train Acc: 0.8210 - Test Loss: 0.6662, Test Acc: 0.7728\n"
          ]
        },
        {
          "output_type": "stream",
          "name": "stderr",
          "text": []
        },
        {
          "output_type": "stream",
          "name": "stdout",
          "text": [
            "ResNet Epoch 10/100 - Train Loss: 0.4947, Train Acc: 0.8276 - Test Loss: 0.5685, Test Acc: 0.8154\n"
          ]
        },
        {
          "output_type": "stream",
          "name": "stderr",
          "text": []
        },
        {
          "output_type": "stream",
          "name": "stdout",
          "text": [
            "ResNet Epoch 11/100 - Train Loss: 0.4755, Train Acc: 0.8355 - Test Loss: 0.5173, Test Acc: 0.8236\n"
          ]
        },
        {
          "output_type": "stream",
          "name": "stderr",
          "text": []
        },
        {
          "output_type": "stream",
          "name": "stdout",
          "text": [
            "ResNet Epoch 12/100 - Train Loss: 0.4516, Train Acc: 0.8430 - Test Loss: 0.5389, Test Acc: 0.8198\n"
          ]
        },
        {
          "output_type": "stream",
          "name": "stderr",
          "text": []
        },
        {
          "output_type": "stream",
          "name": "stdout",
          "text": [
            "ResNet Epoch 13/100 - Train Loss: 0.4410, Train Acc: 0.8474 - Test Loss: 0.5549, Test Acc: 0.8158\n"
          ]
        },
        {
          "output_type": "stream",
          "name": "stderr",
          "text": []
        },
        {
          "output_type": "stream",
          "name": "stdout",
          "text": [
            "ResNet Epoch 14/100 - Train Loss: 0.4250, Train Acc: 0.8526 - Test Loss: 0.5905, Test Acc: 0.8059\n"
          ]
        },
        {
          "output_type": "stream",
          "name": "stderr",
          "text": []
        },
        {
          "output_type": "stream",
          "name": "stdout",
          "text": [
            "ResNet Epoch 15/100 - Train Loss: 0.4102, Train Acc: 0.8594 - Test Loss: 0.5897, Test Acc: 0.8098\n"
          ]
        },
        {
          "output_type": "stream",
          "name": "stderr",
          "text": []
        },
        {
          "output_type": "stream",
          "name": "stdout",
          "text": [
            "ResNet Epoch 16/100 - Train Loss: 0.3983, Train Acc: 0.8631 - Test Loss: 0.5431, Test Acc: 0.8309\n"
          ]
        },
        {
          "output_type": "stream",
          "name": "stderr",
          "text": []
        },
        {
          "output_type": "stream",
          "name": "stdout",
          "text": [
            "ResNet Epoch 17/100 - Train Loss: 0.3925, Train Acc: 0.8643 - Test Loss: 0.5854, Test Acc: 0.8161\n"
          ]
        },
        {
          "output_type": "stream",
          "name": "stderr",
          "text": []
        },
        {
          "output_type": "stream",
          "name": "stdout",
          "text": [
            "ResNet Epoch 18/100 - Train Loss: 0.3776, Train Acc: 0.8685 - Test Loss: 0.5446, Test Acc: 0.8305\n"
          ]
        },
        {
          "output_type": "stream",
          "name": "stderr",
          "text": []
        },
        {
          "output_type": "stream",
          "name": "stdout",
          "text": [
            "ResNet Epoch 19/100 - Train Loss: 0.3739, Train Acc: 0.8714 - Test Loss: 0.4630, Test Acc: 0.8481\n"
          ]
        },
        {
          "output_type": "stream",
          "name": "stderr",
          "text": []
        },
        {
          "output_type": "stream",
          "name": "stdout",
          "text": [
            "ResNet Epoch 20/100 - Train Loss: 0.3641, Train Acc: 0.8741 - Test Loss: 0.6058, Test Acc: 0.8123\n"
          ]
        },
        {
          "output_type": "stream",
          "name": "stderr",
          "text": []
        },
        {
          "output_type": "stream",
          "name": "stdout",
          "text": [
            "ResNet Epoch 21/100 - Train Loss: 0.3594, Train Acc: 0.8759 - Test Loss: 0.4614, Test Acc: 0.8482\n"
          ]
        },
        {
          "output_type": "stream",
          "name": "stderr",
          "text": []
        },
        {
          "output_type": "stream",
          "name": "stdout",
          "text": [
            "ResNet Epoch 22/100 - Train Loss: 0.3488, Train Acc: 0.8793 - Test Loss: 0.5065, Test Acc: 0.8323\n"
          ]
        },
        {
          "output_type": "stream",
          "name": "stderr",
          "text": []
        },
        {
          "output_type": "stream",
          "name": "stdout",
          "text": [
            "ResNet Epoch 23/100 - Train Loss: 0.3385, Train Acc: 0.8822 - Test Loss: 0.5208, Test Acc: 0.8345\n"
          ]
        },
        {
          "output_type": "stream",
          "name": "stderr",
          "text": []
        },
        {
          "output_type": "stream",
          "name": "stdout",
          "text": [
            "ResNet Epoch 24/100 - Train Loss: 0.3401, Train Acc: 0.8823 - Test Loss: 0.5754, Test Acc: 0.8208\n"
          ]
        },
        {
          "output_type": "stream",
          "name": "stderr",
          "text": []
        },
        {
          "output_type": "stream",
          "name": "stdout",
          "text": [
            "ResNet Epoch 25/100 - Train Loss: 0.3316, Train Acc: 0.8860 - Test Loss: 0.4679, Test Acc: 0.8444\n"
          ]
        },
        {
          "output_type": "stream",
          "name": "stderr",
          "text": []
        },
        {
          "output_type": "stream",
          "name": "stdout",
          "text": [
            "ResNet Epoch 26/100 - Train Loss: 0.3228, Train Acc: 0.8871 - Test Loss: 0.5144, Test Acc: 0.8360\n"
          ]
        },
        {
          "output_type": "stream",
          "name": "stderr",
          "text": []
        },
        {
          "output_type": "stream",
          "name": "stdout",
          "text": [
            "ResNet Epoch 27/100 - Train Loss: 0.3192, Train Acc: 0.8879 - Test Loss: 0.4526, Test Acc: 0.8522\n"
          ]
        },
        {
          "output_type": "stream",
          "name": "stderr",
          "text": []
        },
        {
          "output_type": "stream",
          "name": "stdout",
          "text": [
            "ResNet Epoch 28/100 - Train Loss: 0.3145, Train Acc: 0.8919 - Test Loss: 0.4568, Test Acc: 0.8509\n"
          ]
        },
        {
          "output_type": "stream",
          "name": "stderr",
          "text": []
        },
        {
          "output_type": "stream",
          "name": "stdout",
          "text": [
            "ResNet Epoch 29/100 - Train Loss: 0.3101, Train Acc: 0.8917 - Test Loss: 0.4620, Test Acc: 0.8488\n"
          ]
        },
        {
          "output_type": "stream",
          "name": "stderr",
          "text": []
        },
        {
          "output_type": "stream",
          "name": "stdout",
          "text": [
            "ResNet Epoch 30/100 - Train Loss: 0.3085, Train Acc: 0.8925 - Test Loss: 0.4853, Test Acc: 0.8467\n"
          ]
        },
        {
          "output_type": "stream",
          "name": "stderr",
          "text": []
        },
        {
          "output_type": "stream",
          "name": "stdout",
          "text": [
            "ResNet Epoch 31/100 - Train Loss: 0.3072, Train Acc: 0.8928 - Test Loss: 0.4566, Test Acc: 0.8523\n"
          ]
        },
        {
          "output_type": "stream",
          "name": "stderr",
          "text": []
        },
        {
          "output_type": "stream",
          "name": "stdout",
          "text": [
            "ResNet Epoch 32/100 - Train Loss: 0.2979, Train Acc: 0.8961 - Test Loss: 0.6171, Test Acc: 0.8130\n"
          ]
        },
        {
          "output_type": "stream",
          "name": "stderr",
          "text": []
        },
        {
          "output_type": "stream",
          "name": "stdout",
          "text": [
            "ResNet Epoch 33/100 - Train Loss: 0.2946, Train Acc: 0.8967 - Test Loss: 0.4351, Test Acc: 0.8612\n"
          ]
        },
        {
          "output_type": "stream",
          "name": "stderr",
          "text": []
        },
        {
          "output_type": "stream",
          "name": "stdout",
          "text": [
            "ResNet Epoch 34/100 - Train Loss: 0.2941, Train Acc: 0.8965 - Test Loss: 0.4379, Test Acc: 0.8523\n"
          ]
        },
        {
          "output_type": "stream",
          "name": "stderr",
          "text": []
        },
        {
          "output_type": "stream",
          "name": "stdout",
          "text": [
            "ResNet Epoch 35/100 - Train Loss: 0.2888, Train Acc: 0.8994 - Test Loss: 0.4767, Test Acc: 0.8488\n"
          ]
        },
        {
          "output_type": "stream",
          "name": "stderr",
          "text": []
        },
        {
          "output_type": "stream",
          "name": "stdout",
          "text": [
            "ResNet Epoch 36/100 - Train Loss: 0.2885, Train Acc: 0.8997 - Test Loss: 0.4678, Test Acc: 0.8505\n"
          ]
        },
        {
          "output_type": "stream",
          "name": "stderr",
          "text": []
        },
        {
          "output_type": "stream",
          "name": "stdout",
          "text": [
            "ResNet Epoch 37/100 - Train Loss: 0.2855, Train Acc: 0.8996 - Test Loss: 0.5089, Test Acc: 0.8445\n"
          ]
        },
        {
          "output_type": "stream",
          "name": "stderr",
          "text": []
        },
        {
          "output_type": "stream",
          "name": "stdout",
          "text": [
            "ResNet Epoch 38/100 - Train Loss: 0.2801, Train Acc: 0.9022 - Test Loss: 0.4086, Test Acc: 0.8655\n"
          ]
        },
        {
          "output_type": "stream",
          "name": "stderr",
          "text": []
        },
        {
          "output_type": "stream",
          "name": "stdout",
          "text": [
            "ResNet Epoch 39/100 - Train Loss: 0.2828, Train Acc: 0.9001 - Test Loss: 0.4494, Test Acc: 0.8531\n"
          ]
        },
        {
          "output_type": "stream",
          "name": "stderr",
          "text": []
        },
        {
          "output_type": "stream",
          "name": "stdout",
          "text": [
            "ResNet Epoch 40/100 - Train Loss: 0.2721, Train Acc: 0.9057 - Test Loss: 0.4483, Test Acc: 0.8569\n"
          ]
        },
        {
          "output_type": "stream",
          "name": "stderr",
          "text": []
        },
        {
          "output_type": "stream",
          "name": "stdout",
          "text": [
            "ResNet Epoch 41/100 - Train Loss: 0.2731, Train Acc: 0.9035 - Test Loss: 0.4830, Test Acc: 0.8440\n"
          ]
        },
        {
          "output_type": "stream",
          "name": "stderr",
          "text": []
        },
        {
          "output_type": "stream",
          "name": "stdout",
          "text": [
            "ResNet Epoch 42/100 - Train Loss: 0.2705, Train Acc: 0.9066 - Test Loss: 0.5354, Test Acc: 0.8362\n"
          ]
        },
        {
          "output_type": "stream",
          "name": "stderr",
          "text": []
        },
        {
          "output_type": "stream",
          "name": "stdout",
          "text": [
            "ResNet Epoch 43/100 - Train Loss: 0.2709, Train Acc: 0.9057 - Test Loss: 0.5641, Test Acc: 0.8281\n"
          ]
        },
        {
          "output_type": "stream",
          "name": "stderr",
          "text": []
        },
        {
          "output_type": "stream",
          "name": "stdout",
          "text": [
            "ResNet Epoch 44/100 - Train Loss: 0.2677, Train Acc: 0.9062 - Test Loss: 0.5064, Test Acc: 0.8427\n"
          ]
        },
        {
          "output_type": "stream",
          "name": "stderr",
          "text": []
        },
        {
          "output_type": "stream",
          "name": "stdout",
          "text": [
            "ResNet Epoch 45/100 - Train Loss: 0.2653, Train Acc: 0.9073 - Test Loss: 0.4684, Test Acc: 0.8511\n"
          ]
        },
        {
          "output_type": "stream",
          "name": "stderr",
          "text": []
        },
        {
          "output_type": "stream",
          "name": "stdout",
          "text": [
            "ResNet Epoch 46/100 - Train Loss: 0.2650, Train Acc: 0.9067 - Test Loss: 0.4117, Test Acc: 0.8721\n"
          ]
        },
        {
          "output_type": "stream",
          "name": "stderr",
          "text": []
        },
        {
          "output_type": "stream",
          "name": "stdout",
          "text": [
            "ResNet Epoch 47/100 - Train Loss: 0.2574, Train Acc: 0.9097 - Test Loss: 0.4315, Test Acc: 0.8595\n"
          ]
        },
        {
          "output_type": "stream",
          "name": "stderr",
          "text": []
        },
        {
          "output_type": "stream",
          "name": "stdout",
          "text": [
            "ResNet Epoch 48/100 - Train Loss: 0.2655, Train Acc: 0.9072 - Test Loss: 0.4018, Test Acc: 0.8729\n"
          ]
        },
        {
          "output_type": "stream",
          "name": "stderr",
          "text": []
        },
        {
          "output_type": "stream",
          "name": "stdout",
          "text": [
            "ResNet Epoch 49/100 - Train Loss: 0.2582, Train Acc: 0.9101 - Test Loss: 0.5136, Test Acc: 0.8414\n"
          ]
        },
        {
          "output_type": "stream",
          "name": "stderr",
          "text": []
        },
        {
          "output_type": "stream",
          "name": "stdout",
          "text": [
            "ResNet Epoch 50/100 - Train Loss: 0.2560, Train Acc: 0.9099 - Test Loss: 0.5799, Test Acc: 0.8220\n"
          ]
        },
        {
          "output_type": "stream",
          "name": "stderr",
          "text": []
        },
        {
          "output_type": "stream",
          "name": "stdout",
          "text": [
            "ResNet Epoch 51/100 - Train Loss: 0.1718, Train Acc: 0.9409 - Test Loss: 0.3057, Test Acc: 0.9021\n"
          ]
        },
        {
          "output_type": "stream",
          "name": "stderr",
          "text": []
        },
        {
          "output_type": "stream",
          "name": "stdout",
          "text": [
            "ResNet Epoch 52/100 - Train Loss: 0.1424, Train Acc: 0.9517 - Test Loss: 0.2991, Test Acc: 0.9030\n"
          ]
        },
        {
          "output_type": "stream",
          "name": "stderr",
          "text": []
        },
        {
          "output_type": "stream",
          "name": "stdout",
          "text": [
            "ResNet Epoch 53/100 - Train Loss: 0.1305, Train Acc: 0.9566 - Test Loss: 0.3023, Test Acc: 0.9045\n"
          ]
        },
        {
          "output_type": "stream",
          "name": "stderr",
          "text": []
        },
        {
          "output_type": "stream",
          "name": "stdout",
          "text": [
            "ResNet Epoch 54/100 - Train Loss: 0.1216, Train Acc: 0.9579 - Test Loss: 0.3079, Test Acc: 0.9040\n"
          ]
        },
        {
          "output_type": "stream",
          "name": "stderr",
          "text": []
        },
        {
          "output_type": "stream",
          "name": "stdout",
          "text": [
            "ResNet Epoch 55/100 - Train Loss: 0.1151, Train Acc: 0.9606 - Test Loss: 0.3087, Test Acc: 0.9057\n"
          ]
        },
        {
          "output_type": "stream",
          "name": "stderr",
          "text": []
        },
        {
          "output_type": "stream",
          "name": "stdout",
          "text": [
            "ResNet Epoch 56/100 - Train Loss: 0.1114, Train Acc: 0.9623 - Test Loss: 0.3110, Test Acc: 0.9043\n"
          ]
        },
        {
          "output_type": "stream",
          "name": "stderr",
          "text": []
        },
        {
          "output_type": "stream",
          "name": "stdout",
          "text": [
            "ResNet Epoch 57/100 - Train Loss: 0.1089, Train Acc: 0.9629 - Test Loss: 0.3154, Test Acc: 0.9035\n"
          ]
        },
        {
          "output_type": "stream",
          "name": "stderr",
          "text": []
        },
        {
          "output_type": "stream",
          "name": "stdout",
          "text": [
            "ResNet Epoch 58/100 - Train Loss: 0.1015, Train Acc: 0.9657 - Test Loss: 0.3161, Test Acc: 0.9044\n"
          ]
        },
        {
          "output_type": "stream",
          "name": "stderr",
          "text": []
        },
        {
          "output_type": "stream",
          "name": "stdout",
          "text": [
            "ResNet Epoch 59/100 - Train Loss: 0.0994, Train Acc: 0.9659 - Test Loss: 0.3157, Test Acc: 0.9048\n"
          ]
        },
        {
          "output_type": "stream",
          "name": "stderr",
          "text": []
        },
        {
          "output_type": "stream",
          "name": "stdout",
          "text": [
            "ResNet Epoch 60/100 - Train Loss: 0.0959, Train Acc: 0.9670 - Test Loss: 0.3230, Test Acc: 0.9060\n"
          ]
        },
        {
          "output_type": "stream",
          "name": "stderr",
          "text": []
        },
        {
          "output_type": "stream",
          "name": "stdout",
          "text": [
            "ResNet Epoch 61/100 - Train Loss: 0.0917, Train Acc: 0.9681 - Test Loss: 0.3279, Test Acc: 0.9054\n"
          ]
        },
        {
          "output_type": "stream",
          "name": "stderr",
          "text": []
        },
        {
          "output_type": "stream",
          "name": "stdout",
          "text": [
            "ResNet Epoch 62/100 - Train Loss: 0.0901, Train Acc: 0.9698 - Test Loss: 0.3290, Test Acc: 0.9043\n"
          ]
        },
        {
          "output_type": "stream",
          "name": "stderr",
          "text": []
        },
        {
          "output_type": "stream",
          "name": "stdout",
          "text": [
            "ResNet Epoch 63/100 - Train Loss: 0.0890, Train Acc: 0.9697 - Test Loss: 0.3337, Test Acc: 0.9036\n"
          ]
        },
        {
          "output_type": "stream",
          "name": "stderr",
          "text": []
        },
        {
          "output_type": "stream",
          "name": "stdout",
          "text": [
            "ResNet Epoch 64/100 - Train Loss: 0.0863, Train Acc: 0.9698 - Test Loss: 0.3366, Test Acc: 0.9043\n"
          ]
        },
        {
          "output_type": "stream",
          "name": "stderr",
          "text": []
        },
        {
          "output_type": "stream",
          "name": "stdout",
          "text": [
            "ResNet Epoch 65/100 - Train Loss: 0.0816, Train Acc: 0.9723 - Test Loss: 0.3345, Test Acc: 0.9061\n"
          ]
        },
        {
          "output_type": "stream",
          "name": "stderr",
          "text": []
        },
        {
          "output_type": "stream",
          "name": "stdout",
          "text": [
            "ResNet Epoch 66/100 - Train Loss: 0.0819, Train Acc: 0.9714 - Test Loss: 0.3373, Test Acc: 0.9052\n"
          ]
        },
        {
          "output_type": "stream",
          "name": "stderr",
          "text": []
        },
        {
          "output_type": "stream",
          "name": "stdout",
          "text": [
            "ResNet Epoch 67/100 - Train Loss: 0.0817, Train Acc: 0.9718 - Test Loss: 0.3438, Test Acc: 0.9048\n"
          ]
        },
        {
          "output_type": "stream",
          "name": "stderr",
          "text": []
        },
        {
          "output_type": "stream",
          "name": "stdout",
          "text": [
            "ResNet Epoch 68/100 - Train Loss: 0.0790, Train Acc: 0.9726 - Test Loss: 0.3458, Test Acc: 0.9039\n"
          ]
        },
        {
          "output_type": "stream",
          "name": "stderr",
          "text": []
        },
        {
          "output_type": "stream",
          "name": "stdout",
          "text": [
            "ResNet Epoch 69/100 - Train Loss: 0.0767, Train Acc: 0.9737 - Test Loss: 0.3547, Test Acc: 0.9027\n"
          ]
        },
        {
          "output_type": "stream",
          "name": "stderr",
          "text": []
        },
        {
          "output_type": "stream",
          "name": "stdout",
          "text": [
            "ResNet Epoch 70/100 - Train Loss: 0.0757, Train Acc: 0.9731 - Test Loss: 0.3538, Test Acc: 0.9040\n"
          ]
        },
        {
          "output_type": "stream",
          "name": "stderr",
          "text": []
        },
        {
          "output_type": "stream",
          "name": "stdout",
          "text": [
            "ResNet Epoch 71/100 - Train Loss: 0.0747, Train Acc: 0.9743 - Test Loss: 0.3480, Test Acc: 0.9059\n"
          ]
        },
        {
          "output_type": "stream",
          "name": "stderr",
          "text": []
        },
        {
          "output_type": "stream",
          "name": "stdout",
          "text": [
            "ResNet Epoch 72/100 - Train Loss: 0.0717, Train Acc: 0.9752 - Test Loss: 0.3474, Test Acc: 0.9057\n"
          ]
        },
        {
          "output_type": "stream",
          "name": "stderr",
          "text": []
        },
        {
          "output_type": "stream",
          "name": "stdout",
          "text": [
            "ResNet Epoch 73/100 - Train Loss: 0.0708, Train Acc: 0.9756 - Test Loss: 0.3585, Test Acc: 0.9059\n"
          ]
        },
        {
          "output_type": "stream",
          "name": "stderr",
          "text": []
        },
        {
          "output_type": "stream",
          "name": "stdout",
          "text": [
            "ResNet Epoch 74/100 - Train Loss: 0.0724, Train Acc: 0.9746 - Test Loss: 0.3595, Test Acc: 0.9050\n"
          ]
        },
        {
          "output_type": "stream",
          "name": "stderr",
          "text": []
        },
        {
          "output_type": "stream",
          "name": "stdout",
          "text": [
            "ResNet Epoch 75/100 - Train Loss: 0.0689, Train Acc: 0.9760 - Test Loss: 0.3662, Test Acc: 0.9027\n"
          ]
        },
        {
          "output_type": "stream",
          "name": "stderr",
          "text": []
        },
        {
          "output_type": "stream",
          "name": "stdout",
          "text": [
            "ResNet Epoch 76/100 - Train Loss: 0.0593, Train Acc: 0.9797 - Test Loss: 0.3571, Test Acc: 0.9042\n"
          ]
        },
        {
          "output_type": "stream",
          "name": "stderr",
          "text": []
        },
        {
          "output_type": "stream",
          "name": "stdout",
          "text": [
            "ResNet Epoch 77/100 - Train Loss: 0.0579, Train Acc: 0.9807 - Test Loss: 0.3532, Test Acc: 0.9062\n"
          ]
        },
        {
          "output_type": "stream",
          "name": "stderr",
          "text": []
        },
        {
          "output_type": "stream",
          "name": "stdout",
          "text": [
            "ResNet Epoch 78/100 - Train Loss: 0.0571, Train Acc: 0.9811 - Test Loss: 0.3514, Test Acc: 0.9059\n"
          ]
        },
        {
          "output_type": "stream",
          "name": "stderr",
          "text": []
        },
        {
          "output_type": "stream",
          "name": "stdout",
          "text": [
            "ResNet Epoch 79/100 - Train Loss: 0.0561, Train Acc: 0.9811 - Test Loss: 0.3520, Test Acc: 0.9058\n"
          ]
        },
        {
          "output_type": "stream",
          "name": "stderr",
          "text": []
        },
        {
          "output_type": "stream",
          "name": "stdout",
          "text": [
            "ResNet Epoch 80/100 - Train Loss: 0.0555, Train Acc: 0.9812 - Test Loss: 0.3511, Test Acc: 0.9060\n"
          ]
        },
        {
          "output_type": "stream",
          "name": "stderr",
          "text": []
        },
        {
          "output_type": "stream",
          "name": "stdout",
          "text": [
            "ResNet Epoch 81/100 - Train Loss: 0.0556, Train Acc: 0.9819 - Test Loss: 0.3529, Test Acc: 0.9055\n"
          ]
        },
        {
          "output_type": "stream",
          "name": "stderr",
          "text": []
        },
        {
          "output_type": "stream",
          "name": "stdout",
          "text": [
            "ResNet Epoch 82/100 - Train Loss: 0.0546, Train Acc: 0.9818 - Test Loss: 0.3519, Test Acc: 0.9058\n"
          ]
        },
        {
          "output_type": "stream",
          "name": "stderr",
          "text": []
        },
        {
          "output_type": "stream",
          "name": "stdout",
          "text": [
            "ResNet Epoch 83/100 - Train Loss: 0.0536, Train Acc: 0.9826 - Test Loss: 0.3509, Test Acc: 0.9052\n"
          ]
        },
        {
          "output_type": "stream",
          "name": "stderr",
          "text": []
        },
        {
          "output_type": "stream",
          "name": "stdout",
          "text": [
            "ResNet Epoch 84/100 - Train Loss: 0.0538, Train Acc: 0.9825 - Test Loss: 0.3527, Test Acc: 0.9055\n"
          ]
        },
        {
          "output_type": "stream",
          "name": "stderr",
          "text": []
        },
        {
          "output_type": "stream",
          "name": "stdout",
          "text": [
            "ResNet Epoch 85/100 - Train Loss: 0.0522, Train Acc: 0.9830 - Test Loss: 0.3509, Test Acc: 0.9071\n"
          ]
        },
        {
          "output_type": "stream",
          "name": "stderr",
          "text": []
        },
        {
          "output_type": "stream",
          "name": "stdout",
          "text": [
            "ResNet Epoch 86/100 - Train Loss: 0.0524, Train Acc: 0.9829 - Test Loss: 0.3552, Test Acc: 0.9054\n"
          ]
        },
        {
          "output_type": "stream",
          "name": "stderr",
          "text": []
        },
        {
          "output_type": "stream",
          "name": "stdout",
          "text": [
            "ResNet Epoch 87/100 - Train Loss: 0.0516, Train Acc: 0.9831 - Test Loss: 0.3559, Test Acc: 0.9070\n"
          ]
        },
        {
          "output_type": "stream",
          "name": "stderr",
          "text": []
        },
        {
          "output_type": "stream",
          "name": "stdout",
          "text": [
            "ResNet Epoch 88/100 - Train Loss: 0.0535, Train Acc: 0.9822 - Test Loss: 0.3525, Test Acc: 0.9057\n"
          ]
        },
        {
          "output_type": "stream",
          "name": "stderr",
          "text": []
        },
        {
          "output_type": "stream",
          "name": "stdout",
          "text": [
            "ResNet Epoch 89/100 - Train Loss: 0.0512, Train Acc: 0.9834 - Test Loss: 0.3546, Test Acc: 0.9055\n"
          ]
        },
        {
          "output_type": "stream",
          "name": "stderr",
          "text": []
        },
        {
          "output_type": "stream",
          "name": "stdout",
          "text": [
            "ResNet Epoch 90/100 - Train Loss: 0.0504, Train Acc: 0.9836 - Test Loss: 0.3537, Test Acc: 0.9055\n"
          ]
        },
        {
          "output_type": "stream",
          "name": "stderr",
          "text": []
        },
        {
          "output_type": "stream",
          "name": "stdout",
          "text": [
            "ResNet Epoch 91/100 - Train Loss: 0.0511, Train Acc: 0.9834 - Test Loss: 0.3569, Test Acc: 0.9061\n"
          ]
        },
        {
          "output_type": "stream",
          "name": "stderr",
          "text": []
        },
        {
          "output_type": "stream",
          "name": "stdout",
          "text": [
            "ResNet Epoch 92/100 - Train Loss: 0.0504, Train Acc: 0.9836 - Test Loss: 0.3545, Test Acc: 0.9075\n"
          ]
        },
        {
          "output_type": "stream",
          "name": "stderr",
          "text": []
        },
        {
          "output_type": "stream",
          "name": "stdout",
          "text": [
            "ResNet Epoch 93/100 - Train Loss: 0.0504, Train Acc: 0.9840 - Test Loss: 0.3552, Test Acc: 0.9073\n"
          ]
        },
        {
          "output_type": "stream",
          "name": "stderr",
          "text": []
        },
        {
          "output_type": "stream",
          "name": "stdout",
          "text": [
            "ResNet Epoch 94/100 - Train Loss: 0.0512, Train Acc: 0.9833 - Test Loss: 0.3586, Test Acc: 0.9062\n"
          ]
        },
        {
          "output_type": "stream",
          "name": "stderr",
          "text": []
        },
        {
          "output_type": "stream",
          "name": "stdout",
          "text": [
            "ResNet Epoch 95/100 - Train Loss: 0.0490, Train Acc: 0.9838 - Test Loss: 0.3576, Test Acc: 0.9064\n"
          ]
        },
        {
          "output_type": "stream",
          "name": "stderr",
          "text": []
        },
        {
          "output_type": "stream",
          "name": "stdout",
          "text": [
            "ResNet Epoch 96/100 - Train Loss: 0.0501, Train Acc: 0.9839 - Test Loss: 0.3592, Test Acc: 0.9072\n"
          ]
        },
        {
          "output_type": "stream",
          "name": "stderr",
          "text": []
        },
        {
          "output_type": "stream",
          "name": "stdout",
          "text": [
            "ResNet Epoch 97/100 - Train Loss: 0.0496, Train Acc: 0.9838 - Test Loss: 0.3583, Test Acc: 0.9074\n"
          ]
        },
        {
          "output_type": "stream",
          "name": "stderr",
          "text": []
        },
        {
          "output_type": "stream",
          "name": "stdout",
          "text": [
            "ResNet Epoch 98/100 - Train Loss: 0.0488, Train Acc: 0.9842 - Test Loss: 0.3602, Test Acc: 0.9080\n"
          ]
        },
        {
          "output_type": "stream",
          "name": "stderr",
          "text": []
        },
        {
          "output_type": "stream",
          "name": "stdout",
          "text": [
            "ResNet Epoch 99/100 - Train Loss: 0.0495, Train Acc: 0.9842 - Test Loss: 0.3612, Test Acc: 0.9078\n"
          ]
        },
        {
          "output_type": "stream",
          "name": "stderr",
          "text": [
            "                                                "
          ]
        },
        {
          "output_type": "stream",
          "name": "stdout",
          "text": [
            "ResNet Epoch 100/100 - Train Loss: 0.0490, Train Acc: 0.9844 - Test Loss: 0.3568, Test Acc: 0.9070\n"
          ]
        },
        {
          "output_type": "stream",
          "name": "stderr",
          "text": [
            "\r"
          ]
        }
      ]
    },
    {
      "cell_type": "markdown",
      "source": [
        "## Training and Test Performance Over Epochs\n",
        "\n",
        "The following plot displays the training and testing loss and accuracy curves for both the PlainCNN and ResNet models across 100 epochs.  \n",
        "It highlights the learning progress, model convergence, and generalization abilities over time.\n"
      ],
      "metadata": {
        "id": "chLoPy_VhNui"
      }
    },
    {
      "cell_type": "code",
      "source": [
        "import matplotlib.pyplot as plt\n",
        "\n",
        "epochs = range(1, len(train_losses_plain) + 1)  # Should be 100\n",
        "\n",
        "plt.figure(figsize=(14, 6))\n",
        "\n",
        "# Plot loss curves\n",
        "plt.subplot(1, 2, 1)\n",
        "plt.plot(epochs, train_losses_plain, 'b-', label='PlainCNN Train Loss')\n",
        "plt.plot(epochs, test_losses_plain, 'b--', label='PlainCNN Test Loss')\n",
        "plt.plot(epochs, train_losses_resnet, 'r-', label='ResNet Train Loss')\n",
        "plt.plot(epochs, test_losses_resnet, 'r--', label='ResNet Test Loss')\n",
        "plt.xlabel('Epoch')\n",
        "plt.ylabel('Loss')\n",
        "plt.title('Training and Test Loss over 100 Epochs')\n",
        "plt.legend()\n",
        "\n",
        "# Plot accuracy curves\n",
        "plt.subplot(1, 2, 2)\n",
        "plt.plot(epochs, train_accs_plain, 'b-', label='PlainCNN Train Accuracy')\n",
        "plt.plot(epochs, test_accs_plain, 'b--', label='PlainCNN Test Accuracy')\n",
        "plt.plot(epochs, train_accs_resnet, 'r-', label='ResNet Train Accuracy')\n",
        "plt.plot(epochs, test_accs_resnet, 'r--', label='ResNet Test Accuracy')\n",
        "plt.xlabel('Epoch')\n",
        "plt.ylabel('Accuracy')\n",
        "plt.title('Training and Test Accuracy over 100 Epochs')\n",
        "plt.legend()\n",
        "\n",
        "plt.tight_layout()\n",
        "plt.show()\n"
      ],
      "metadata": {
        "colab": {
          "base_uri": "https://localhost:8080/",
          "height": 561
        },
        "id": "q0yvFRN9ZImX",
        "outputId": "4cef5157-e4c3-4163-9851-4a113480148f"
      },
      "execution_count": 8,
      "outputs": [
        {
          "output_type": "display_data",
          "data": {
            "text/plain": [
              "<Figure size 1400x600 with 2 Axes>"
            ],
            "image/png": "[encoded data removed]"
          },
          "metadata": {}
        }
      ]
    },
    {
      "cell_type": "markdown",
      "source": [
        "## Final Epoch Accuracy Comparison - Bar Chart\n",
        "\n",
        "This bar chart compares the final training and testing accuracies of the two models.  \n",
        "It provides a clear snapshot of the models' performance at the conclusion of training.\n"
      ],
      "metadata": {
        "id": "hsVoo6qLhRkZ"
      }
    },
    {
      "cell_type": "code",
      "source": [
        "import matplotlib.pyplot as plt\n",
        "\n",
        "models = ['PlainCNN', 'ResNet']\n",
        "train_acc_final = [train_accs_plain[-1]*100, train_accs_resnet[-1]*100]\n",
        "test_acc_final = [test_accs_plain[-1]*100, test_accs_resnet[-1]*100]\n",
        "\n",
        "x = range(len(models))\n",
        "\n",
        "plt.figure(figsize=(8,5))\n",
        "plt.bar(x, train_acc_final, width=0.4, label='Train Accuracy', align='center')\n",
        "plt.bar(x, test_acc_final, width=0.4, label='Test Accuracy', align='edge')\n",
        "plt.xticks(x, models)\n",
        "plt.ylabel('Accuracy (%)')\n",
        "plt.title('Final Epoch Training and Test Accuracy Comparison')\n",
        "plt.legend()\n",
        "plt.show()\n"
      ],
      "metadata": {
        "colab": {
          "base_uri": "https://localhost:8080/",
          "height": 468
        },
        "id": "hYf9b27EZLWp",
        "outputId": "2c21197f-3779-40e1-a91f-c7131794cebb"
      },
      "execution_count": 9,
      "outputs": [
        {
          "output_type": "display_data",
          "data": {
            "text/plain": [
              "<Figure size 800x500 with 1 Axes>"
            ],
            "image/png": "[encoded data removed]"
          },
          "metadata": {}
        }
      ]
    },
    {
      "cell_type": "markdown",
      "source": [
        "## Scatter Plot of Accuracy Across Epochs\n",
        "\n",
        "This scatter plot shows the training and testing accuracies of both models across all epochs with individual points connected by lines.  \n",
        "It emphasizes the progression and stability of the models over time.\n"
      ],
      "metadata": {
        "id": "-GdfwgsghUl4"
      }
    },
    {
      "cell_type": "code",
      "source": [
        "import matplotlib.pyplot as plt\n",
        "\n",
        "epochs = range(1, len(train_accs_plain) + 1)\n",
        "\n",
        "plt.figure(figsize=(10,6))\n",
        "\n",
        "# Scatter plot with lines connecting points\n",
        "plt.plot(epochs, train_accs_plain, 'bo-', label='PlainCNN Train Acc')\n",
        "plt.plot(epochs, test_accs_plain, 'b^--', label='PlainCNN Test Acc')\n",
        "plt.plot(epochs, train_accs_resnet, 'ro-', label='ResNet Train Acc')\n",
        "plt.plot(epochs, test_accs_resnet, 'r^--', label='ResNet Test Acc')\n",
        "\n",
        "plt.xlabel('Epoch')\n",
        "plt.ylabel('Accuracy')\n",
        "plt.title('Train and Test Accuracy - Scatter Plot')\n",
        "plt.legend()\n",
        "plt.grid(True)\n",
        "plt.show()\n"
      ],
      "metadata": {
        "colab": {
          "base_uri": "https://localhost:8080/",
          "height": 564
        },
        "id": "yz9DPE5dZR6g",
        "outputId": "fa4f3105-5af3-4f58-e35e-f0bfc1b81d78"
      },
      "execution_count": 10,
      "outputs": [
        {
          "output_type": "display_data",
          "data": {
            "text/plain": [
              "<Figure size 1000x600 with 1 Axes>"
            ],
            "image/png": "[encoded data removed]"
          },
          "metadata": {}
        }
      ]
    },
    {
      "cell_type": "markdown",
      "source": [
        "## Percentage Improvement of ResNet Over PlainCNN\n",
        "\n",
        "This plot visualizes the percentage difference in accuracy between ResNet and PlainCNN per epoch.  \n",
        "Positive values indicate ResNet's advantage, portraying how residual connections enhance performance dynamically during training.\n"
      ],
      "metadata": {
        "id": "buKiq9e8hXfv"
      }
    },
    {
      "cell_type": "code",
      "source": [
        "import numpy as np\n",
        "\n",
        "epochs = range(1, len(train_accs_plain) + 1)\n",
        "\n",
        "# Calculate percentage improvement of ResNet over PlainCNN for test accuracy\n",
        "perc_improvement_test = 100 * (np.array(test_accs_resnet) - np.array(test_accs_plain)) / np.array(test_accs_plain)\n",
        "perc_improvement_train = 100 * (np.array(train_accs_resnet) - np.array(train_accs_plain)) / np.array(train_accs_plain)\n",
        "\n",
        "plt.figure(figsize=(10,6))\n",
        "plt.plot(epochs, perc_improvement_train, 'g-', label='Train Accuracy % Improvement')\n",
        "plt.plot(epochs, perc_improvement_test, 'm-', label='Test Accuracy % Improvement')\n",
        "\n",
        "plt.xlabel('Epoch')\n",
        "plt.ylabel('Percentage Improvement (%)')\n",
        "plt.title('Percentage Improvement of ResNet over PlainCNN')\n",
        "plt.legend()\n",
        "plt.grid(True)\n",
        "plt.show()\n"
      ],
      "metadata": {
        "colab": {
          "base_uri": "https://localhost:8080/",
          "height": 564
        },
        "id": "ObwMLxwGZWHt",
        "outputId": "eaec43ce-87b3-446f-8c3f-7f38af1eb72a"
      },
      "execution_count": 11,
      "outputs": [
        {
          "output_type": "display_data",
          "data": {
            "text/plain": [
              "<Figure size 1000x600 with 1 Axes>"
            ],
            "image/png": "[encoded data removed]"
          },
          "metadata": {}
        }
      ]
    },
    {
      "cell_type": "markdown",
      "source": [
        "## Summary of Comparative Analysis\n",
        "\n",
        "- ResNet consistently outperforms PlainCNN on both training and testing accuracy, demonstrating the effectiveness of residual connections.\n",
        "- The learning curves indicate smoother convergence for ResNet and better generalization reflected in the test accuracy.\n",
        "- Percentage improvement plots quantify the advantage of using a residual architecture.\n",
        "- Final epoch bar charts summarize the overall performance gains.\n"
      ],
      "metadata": {
        "id": "GOPafjB7haa-"
      }
    },
    {
      "cell_type": "code",
      "source": [
        "import pandas as pd\n",
        "\n",
        "# Summary stats at final epoch\n",
        "data = {\n",
        "    'Model': ['PlainCNN', 'ResNet'],\n",
        "    'Final Train Accuracy (%)': [train_accs_plain[-1]*100, train_accs_resnet[-1]*100],\n",
        "    'Final Test Accuracy (%)': [test_accs_plain[-1]*100, test_accs_resnet[-1]*100],\n",
        "    'Min Train Loss': [min(train_losses_plain), min(train_losses_resnet)],\n",
        "    'Min Test Loss': [min(test_losses_plain), min(test_losses_resnet)]\n",
        "}\n",
        "\n",
        "summary_df = pd.DataFrame(data)\n",
        "summary_df\n"
      ],
      "metadata": {
        "colab": {
          "base_uri": "https://localhost:8080/",
          "height": 125
        },
        "id": "SQQOnj3VZbBg",
        "outputId": "01868953-2ef2-4a4a-d220-6cc1f52cdc6c"
      },
      "execution_count": 12,
      "outputs": [
        {
          "output_type": "execute_result",
          "data": {
            "text/plain": [
              "      Model  Final Train Accuracy (%)  Final Test Accuracy (%)  \\\n",
              "0  PlainCNN                    92.632                    87.38   \n",
              "1    ResNet                    98.442                    90.70   \n",
              "\n",
              "   Min Train Loss  Min Test Loss  \n",
              "0        0.220353       0.377795  \n",
              "1        0.048778       0.299115  "
            ],
            "text/html": [
              "\n",
              "  <div id=\"df-762d8596-5401-4a05-9c63-78d60462aa4e\" class=\"colab-df-container\">\n",
              "    <div>\n",
              "<style scoped>\n",
              "    .dataframe tbody tr th:only-of-type {\n",
              "        vertical-align: middle;\n",
              "    }\n",
              "\n",
              "    .dataframe tbody tr th {\n",
              "        vertical-align: top;\n",
              "    }\n",
              "\n",
              "    .dataframe thead th {\n",
              "        text-align: right;\n",
              "    }\n",
              "</style>\n",
              "<table border=\"1\" class=\"dataframe\">\n",
              "  <thead>\n",
              "    <tr style=\"text-align: right;\">\n",
              "      <th></th>\n",
              "      <th>Model</th>\n",
              "      <th>Final Train Accuracy (%)</th>\n",
              "      <th>Final Test Accuracy (%)</th>\n",
              "      <th>Min Train Loss</th>\n",
              "      <th>Min Test Loss</th>\n",
              "    </tr>\n",
              "  </thead>\n",
              "  <tbody>\n",
              "    <tr>\n",
              "      <th>0</th>\n",
              "      <td>PlainCNN</td>\n",
              "      <td>92.632</td>\n",
              "      <td>87.38</td>\n",
              "      <td>0.220353</td>\n",
              "      <td>0.377795</td>\n",
              "    </tr>\n",
              "    <tr>\n",
              "      <th>1</th>\n",
              "      <td>ResNet</td>\n",
              "      <td>98.442</td>\n",
              "      <td>90.70</td>\n",
              "      <td>0.048778</td>\n",
              "      <td>0.299115</td>\n",
              "    </tr>\n",
              "  </tbody>\n",
              "</table>\n",
              "</div>\n",
              "    <div class=\"colab-df-buttons\">\n",
              "\n",
              "  <div class=\"colab-df-container\">\n",
              "    <button class=\"colab-df-convert\" onclick=\"convertToInteractive('df-762d8596-5401-4a05-9c63-78d60462aa4e')\"\n",
              "            title=\"Convert this dataframe to an interactive table.\"\n",
              "            style=\"display:none;\">\n",
              "\n",
              "  <svg xmlns=\"http://www.w3.org/2000/svg\" height=\"24px\" viewBox=\"0 -960 960 960\">\n",
              "    <path d=\"M120-120v-720h720v720H120Zm60-500h600v-160H180v160Zm220 220h160v-160H400v160Zm0 220h160v-160H400v160ZM180-400h160v-160H180v160Zm440 0h160v-160H620v160ZM180-180h160v-160H180v160Zm440 0h160v-160H620v160Z\"/>\n",
              "  </svg>\n",
              "    </button>\n",
              "\n",
              "  <style>\n",
              "    .colab-df-container {\n",
              "      display:flex;\n",
              "      gap: 12px;\n",
              "    }\n",
              "\n",
              "    .colab-df-convert {\n",
              "      background-color: #E8F0FE;\n",
              "      border: none;\n",
              "      border-radius: 50%;\n",
              "      cursor: pointer;\n",
              "      display: none;\n",
              "      fill: #1967D2;\n",
              "      height: 32px;\n",
              "      padding: 0 0 0 0;\n",
              "      width: 32px;\n",
              "    }\n",
              "\n",
              "    .colab-df-convert:hover {\n",
              "      background-color: #E2EBFA;\n",
              "      box-shadow: 0px 1px 2px rgba(60, 64, 67, 0.3), 0px 1px 3px 1px rgba(60, 64, 67, 0.15);\n",
              "      fill: #174EA6;\n",
              "    }\n",
              "\n",
              "    .colab-df-buttons div {\n",
              "      margin-bottom: 4px;\n",
              "    }\n",
              "\n",
              "    [theme=dark] .colab-df-convert {\n",
              "      background-color: #3B4455;\n",
              "      fill: #D2E3FC;\n",
              "    }\n",
              "\n",
              "    [theme=dark] .colab-df-convert:hover {\n",
              "      background-color: #434B5C;\n",
              "      box-shadow: 0px 1px 3px 1px rgba(0, 0, 0, 0.15);\n",
              "      filter: drop-shadow(0px 1px 2px rgba(0, 0, 0, 0.3));\n",
              "      fill: #FFFFFF;\n",
              "    }\n",
              "  </style>\n",
              "\n",
              "    <script>\n",
              "      const buttonEl =\n",
              "        document.querySelector('#df-762d8596-5401-4a05-9c63-78d60462aa4e button.colab-df-convert');\n",
              "      buttonEl.style.display =\n",
              "        google.colab.kernel.accessAllowed ? 'block' : 'none';\n",
              "\n",
              "      async function convertToInteractive(key) {\n",
              "        const element = document.querySelector('#df-762d8596-5401-4a05-9c63-78d60462aa4e');\n",
              "        const dataTable =\n",
              "          await google.colab.kernel.invokeFunction('convertToInteractive',\n",
              "                                                    [key], {});\n",
              "        if (!dataTable) return;\n",
              "\n",
              "        const docLinkHtml = 'Like what you see? Visit the ' +\n",
              "          '<a target=\"_blank\" href=https://colab.research.google.com/notebooks/data_table.ipynb>data table notebook</a>'\n",
              "          + ' to learn more about interactive tables.';\n",
              "        element.innerHTML = '';\n",
              "        dataTable['output_type'] = 'display_data';\n",
              "        await google.colab.output.renderOutput(dataTable, element);\n",
              "        const docLink = document.createElement('div');\n",
              "        docLink.innerHTML = docLinkHtml;\n",
              "        element.appendChild(docLink);\n",
              "      }\n",
              "    </script>\n",
              "  </div>\n",
              "\n",
              "\n",
              "    <div id=\"df-bcf15cfd-6580-4c62-97d5-02ca8bf84667\">\n",
              "      <button class=\"colab-df-quickchart\" onclick=\"quickchart('df-bcf15cfd-6580-4c62-97d5-02ca8bf84667')\"\n",
              "                title=\"Suggest charts\"\n",
              "                style=\"display:none;\">\n",
              "\n",
              "<svg xmlns=\"http://www.w3.org/2000/svg\" height=\"24px\"viewBox=\"0 0 24 24\"\n",
              "     width=\"24px\">\n",
              "    <g>\n",
              "        <path d=\"M19 3H5c-1.1 0-2 .9-2 2v14c0 1.1.9 2 2 2h14c1.1 0 2-.9 2-2V5c0-1.1-.9-2-2-2zM9 17H7v-7h2v7zm4 0h-2V7h2v10zm4 0h-2v-4h2v4z\"/>\n",
              "    </g>\n",
              "</svg>\n",
              "      </button>\n",
              "\n",
              "<style>\n",
              "  .colab-df-quickchart {\n",
              "      --bg-color: #E8F0FE;\n",
              "      --fill-color: #1967D2;\n",
              "      --hover-bg-color: #E2EBFA;\n",
              "      --hover-fill-color: #174EA6;\n",
              "      --disabled-fill-color: #AAA;\n",
              "      --disabled-bg-color: #DDD;\n",
              "  }\n",
              "\n",
              "  [theme=dark] .colab-df-quickchart {\n",
              "      --bg-color: #3B4455;\n",
              "      --fill-color: #D2E3FC;\n",
              "      --hover-bg-color: #434B5C;\n",
              "      --hover-fill-color: #FFFFFF;\n",
              "      --disabled-bg-color: #3B4455;\n",
              "      --disabled-fill-color: #666;\n",
              "  }\n",
              "\n",
              "  .colab-df-quickchart {\n",
              "    background-color: var(--bg-color);\n",
              "    border: none;\n",
              "    border-radius: 50%;\n",
              "    cursor: pointer;\n",
              "    display: none;\n",
              "    fill: var(--fill-color);\n",
              "    height: 32px;\n",
              "    padding: 0;\n",
              "    width: 32px;\n",
              "  }\n",
              "\n",
              "  .colab-df-quickchart:hover {\n",
              "    background-color: var(--hover-bg-color);\n",
              "    box-shadow: 0 1px 2px rgba(60, 64, 67, 0.3), 0 1px 3px 1px rgba(60, 64, 67, 0.15);\n",
              "    fill: var(--button-hover-fill-color);\n",
              "  }\n",
              "\n",
              "  .colab-df-quickchart-complete:disabled,\n",
              "  .colab-df-quickchart-complete:disabled:hover {\n",
              "    background-color: var(--disabled-bg-color);\n",
              "    fill: var(--disabled-fill-color);\n",
              "    box-shadow: none;\n",
              "  }\n",
              "\n",
              "  .colab-df-spinner {\n",
              "    border: 2px solid var(--fill-color);\n",
              "    border-color: transparent;\n",
              "    border-bottom-color: var(--fill-color);\n",
              "    animation:\n",
              "      spin 1s steps(1) infinite;\n",
              "  }\n",
              "\n",
              "  @keyframes spin {\n",
              "    0% {\n",
              "      border-color: transparent;\n",
              "      border-bottom-color: var(--fill-color);\n",
              "      border-left-color: var(--fill-color);\n",
              "    }\n",
              "    20% {\n",
              "      border-color: transparent;\n",
              "      border-left-color: var(--fill-color);\n",
              "      border-top-color: var(--fill-color);\n",
              "    }\n",
              "    30% {\n",
              "      border-color: transparent;\n",
              "      border-left-color: var(--fill-color);\n",
              "      border-top-color: var(--fill-color);\n",
              "      border-right-color: var(--fill-color);\n",
              "    }\n",
              "    40% {\n",
              "      border-color: transparent;\n",
              "      border-right-color: var(--fill-color);\n",
              "      border-top-color: var(--fill-color);\n",
              "    }\n",
              "    60% {\n",
              "      border-color: transparent;\n",
              "      border-right-color: var(--fill-color);\n",
              "    }\n",
              "    80% {\n",
              "      border-color: transparent;\n",
              "      border-right-color: var(--fill-color);\n",
              "      border-bottom-color: var(--fill-color);\n",
              "    }\n",
              "    90% {\n",
              "      border-color: transparent;\n",
              "      border-bottom-color: var(--fill-color);\n",
              "    }\n",
              "  }\n",
              "</style>\n",
              "\n",
              "      <script>\n",
              "        async function quickchart(key) {\n",
              "          const quickchartButtonEl =\n",
              "            document.querySelector('#' + key + ' button');\n",
              "          quickchartButtonEl.disabled = true;  // To prevent multiple clicks.\n",
              "          quickchartButtonEl.classList.add('colab-df-spinner');\n",
              "          try {\n",
              "            const charts = await google.colab.kernel.invokeFunction(\n",
              "                'suggestCharts', [key], {});\n",
              "          } catch (error) {\n",
              "            console.error('Error during call to suggestCharts:', error);\n",
              "          }\n",
              "          quickchartButtonEl.classList.remove('colab-df-spinner');\n",
              "          quickchartButtonEl.classList.add('colab-df-quickchart-complete');\n",
              "        }\n",
              "        (() => {\n",
              "          let quickchartButtonEl =\n",
              "            document.querySelector('#df-bcf15cfd-6580-4c62-97d5-02ca8bf84667 button');\n",
              "          quickchartButtonEl.style.display =\n",
              "            google.colab.kernel.accessAllowed ? 'block' : 'none';\n",
              "        })();\n",
              "      </script>\n",
              "    </div>\n",
              "\n",
              "  <div id=\"id_b16e301f-ea60-494a-a12a-0aa5b0fb7d64\">\n",
              "    <style>\n",
              "      .colab-df-generate {\n",
              "        background-color: #E8F0FE;\n",
              "        border: none;\n",
              "        border-radius: 50%;\n",
              "        cursor: pointer;\n",
              "        display: none;\n",
              "        fill: #1967D2;\n",
              "        height: 32px;\n",
              "        padding: 0 0 0 0;\n",
              "        width: 32px;\n",
              "      }\n",
              "\n",
              "      .colab-df-generate:hover {\n",
              "        background-color: #E2EBFA;\n",
              "        box-shadow: 0px 1px 2px rgba(60, 64, 67, 0.3), 0px 1px 3px 1px rgba(60, 64, 67, 0.15);\n",
              "        fill: #174EA6;\n",
              "      }\n",
              "\n",
              "      [theme=dark] .colab-df-generate {\n",
              "        background-color: #3B4455;\n",
              "        fill: #D2E3FC;\n",
              "      }\n",
              "\n",
              "      [theme=dark] .colab-df-generate:hover {\n",
              "        background-color: #434B5C;\n",
              "        box-shadow: 0px 1px 3px 1px rgba(0, 0, 0, 0.15);\n",
              "        filter: drop-shadow(0px 1px 2px rgba(0, 0, 0, 0.3));\n",
              "        fill: #FFFFFF;\n",
              "      }\n",
              "    </style>\n",
              "    <button class=\"colab-df-generate\" onclick=\"generateWithVariable('summary_df')\"\n",
              "            title=\"Generate code using this dataframe.\"\n",
              "            style=\"display:none;\">\n",
              "\n",
              "  <svg xmlns=\"http://www.w3.org/2000/svg\" height=\"24px\"viewBox=\"0 0 24 24\"\n",
              "       width=\"24px\">\n",
              "    <path d=\"M7,19H8.4L18.45,9,17,7.55,7,17.6ZM5,21V16.75L18.45,3.32a2,2,0,0,1,2.83,0l1.4,1.43a1.91,1.91,0,0,1,.58,1.4,1.91,1.91,0,0,1-.58,1.4L9.25,21ZM18.45,9,17,7.55Zm-12,3A5.31,5.31,0,0,0,4.9,8.1,5.31,5.31,0,0,0,1,6.5,5.31,5.31,0,0,0,4.9,4.9,5.31,5.31,0,0,0,6.5,1,5.31,5.31,0,0,0,8.1,4.9,5.31,5.31,0,0,0,12,6.5,5.46,5.46,0,0,0,6.5,12Z\"/>\n",
              "  </svg>\n",
              "    </button>\n",
              "    <script>\n",
              "      (() => {\n",
              "      const buttonEl =\n",
              "        document.querySelector('#id_b16e301f-ea60-494a-a12a-0aa5b0fb7d64 button.colab-df-generate');\n",
              "      buttonEl.style.display =\n",
              "        google.colab.kernel.accessAllowed ? 'block' : 'none';\n",
              "\n",
              "      buttonEl.onclick = () => {\n",
              "        google.colab.notebook.generateWithVariable('summary_df');\n",
              "      }\n",
              "      })();\n",
              "    </script>\n",
              "  </div>\n",
              "\n",
              "    </div>\n",
              "  </div>\n"
            ],
            "application/vnd.google.colaboratory.intrinsic+json": {
              "type": "dataframe",
              "variable_name": "summary_df",
              "summary": "{\n  \"name\": \"summary_df\",\n  \"rows\": 2,\n  \"fields\": [\n    {\n      \"column\": \"Model\",\n      \"properties\": {\n        \"dtype\": \"string\",\n        \"num_unique_values\": 2,\n        \"samples\": [\n          \"ResNet\",\n          \"PlainCNN\"\n        ],\n        \"semantic_type\": \"\",\n        \"description\": \"\"\n      }\n    },\n    {\n      \"column\": \"Final Train Accuracy (%)\",\n      \"properties\": {\n        \"dtype\": \"number\",\n        \"std\": 4.108290398693833,\n        \"min\": 92.632,\n        \"max\": 98.442,\n        \"num_unique_values\": 2,\n        \"samples\": [\n          98.442,\n          92.632\n        ],\n        \"semantic_type\": \"\",\n        \"description\": \"\"\n      }\n    },\n    {\n      \"column\": \"Final Test Accuracy (%)\",\n      \"properties\": {\n        \"dtype\": \"number\",\n        \"std\": 2.347594513539343,\n        \"min\": 87.38,\n        \"max\": 90.7,\n        \"num_unique_values\": 2,\n        \"samples\": [\n          90.7,\n          87.38\n        ],\n        \"semantic_type\": \"\",\n        \"description\": \"\"\n      }\n    },\n    {\n      \"column\": \"Min Train Loss\",\n      \"properties\": {\n        \"dtype\": \"number\",\n        \"std\": 0.12132133637610719,\n        \"min\": 0.04877838519573212,\n        \"max\": 0.22035266450405122,\n        \"num_unique_values\": 2,\n        \"samples\": [\n          0.04877838519573212,\n          0.22035266450405122\n        ],\n        \"semantic_type\": \"\",\n        \"description\": \"\"\n      }\n    },\n    {\n      \"column\": \"Min Test Loss\",\n      \"properties\": {\n        \"dtype\": \"number\",\n        \"std\": 0.055635096168516425,\n        \"min\": 0.2991153920441866,\n        \"max\": 0.3777952995896339,\n        \"num_unique_values\": 2,\n        \"samples\": [\n          0.2991153920441866,\n          0.3777952995896339\n        ],\n        \"semantic_type\": \"\",\n        \"description\": \"\"\n      }\n    }\n  ]\n}"
            }
          },
          "metadata": {},
          "execution_count": 12
        }
      ]
    }
  ]
}